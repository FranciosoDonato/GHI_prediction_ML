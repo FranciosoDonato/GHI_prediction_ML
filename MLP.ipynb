{
  "cells": [
    {
      "cell_type": "markdown",
      "metadata": {
        "id": "t2lj0q2I5yHw"
      },
      "source": [
        "#Import"
      ]
    },
    {
      "cell_type": "code",
      "execution_count": null,
      "metadata": {
        "id": "5kYeJm_pBrVI"
      },
      "outputs": [],
      "source": [
        "import numpy as np\n",
        "import pandas as pd\n",
        "from sklearn import linear_model, ensemble\n",
        "from sklearn.ensemble import RandomForestRegressor \n",
        "from sklearn.model_selection import train_test_split, cross_val_score, StratifiedKFold, KFold\n",
        "from sklearn.metrics import r2_score, mean_squared_error, mean_absolute_error\n",
        "import matplotlib.pyplot as plt\n",
        "from sklearn.linear_model import ElasticNet\n",
        "from sklearn.preprocessing import StandardScaler, RobustScaler\n",
        "from sklearn.neighbors import KNeighborsRegressor \n",
        "from statistics import mean, stdev\n",
        "from mlxtend.plotting import scatterplotmatrix\n",
        "import xgboost as xg\n",
        "from sklearn.model_selection import GridSearchCV, RandomizedSearchCV\n",
        "import math\n",
        "from math import sqrt\n",
        "from sklearn.preprocessing import PolynomialFeatures\n",
        "import tensorflow as tf\n",
        "from keras import Model\n",
        "from keras import Sequential\n",
        "from tensorflow.keras.optimizers import Adam\n",
        "from tensorflow.keras.layers import Dense, Dropout\n",
        "from tensorflow.keras.losses import MeanSquaredLogarithmicError\n",
        "import matplotlib.patches as mpatches\n",
        "from keras.callbacks import Callback\n",
        "from keras.wrappers.scikit_learn import KerasRegressor\n",
        "from keras.utils.vis_utils import plot_model"
      ]
    },
    {
      "cell_type": "markdown",
      "metadata": {
        "id": "RlHwuSSXji_9"
      },
      "source": [
        "#General function\n",
        "Useful function"
      ]
    },
    {
      "cell_type": "code",
      "execution_count": null,
      "metadata": {
        "id": "LTn5lLYpca6D"
      },
      "outputs": [],
      "source": [
        "city = ['Bari', 'Torino', 'Roma']\n",
        "\n",
        "#Metrics\n",
        "def metrics(test, prediction):\n",
        "  result = []\n",
        "  result.append(r2_score(test, prediction))\n",
        "  result.append(sqrt(mean_squared_error(test, prediction)))\n",
        "  result.append(mean_absolute_error(test, prediction))\n",
        "  return result\n",
        "\n",
        "#Define the best HyperParameters\n",
        "def bestHyper(param_grid, x_train, y_train, model):\n",
        "  search = GridSearchCV(model, param_grid, cv = 10, scoring='neg_root_mean_squared_error')\n",
        "  result = search.fit(x_train, y_train)\n",
        "  mean =  result.cv_results_['mean_test_score']\n",
        "  params = result.cv_results_['params']\n",
        "  for mean, params in zip(mean, params):\n",
        "    print(\"Mean score: %f, with: %r\" % (mean, params))\n",
        "  print('Best Score: %s' % result.best_score_)\n",
        "  print('Best Hyperparameters: %s' % result.best_params_)\n",
        "  print(\" \")\n",
        "  return result\n",
        "\n",
        "#Predict and return results\n",
        "def predictAndResults(best, x_test, y_test):\n",
        "  pred = best.predict(x_test)\n",
        "  result = metrics(y_test, pred)\n",
        "  return result\n",
        "\n",
        "#Print the results\n",
        "def stampa(arr):\n",
        "  print(\"The result of prediction on x_test are:\")\n",
        "  print(\"Root Mean Squared Error: \", arr[1])\n",
        "  print(\"R2: \", arr[0])\n",
        "  print(\"Mean Absolute Error: \", arr[2])\n",
        "\n",
        "#Create CSV\n",
        "def finalDf(df, df1, df2, name):\n",
        "  final = pd.DataFrame()\n",
        "  final = final.append(df)\n",
        "  final = final.append(df1)\n",
        "  final = final.append(df2)\n",
        "  final.to_csv(f\"{name}.csv\", index = False)\n",
        "  df = pd.read_csv(f'/content/{name}.csv', delimiter = ',')\n",
        "  return df\n",
        "\n",
        "#Clean csv\n",
        "def preProcessing(df):\n",
        "  i = df[((df.GHI == 0))].index\n",
        "  df = df.drop(i)\n",
        "  df = df.drop(columns = ['Year','Month','Day','Hour', 'Minute','DHI', 'Precipitable Water', 'Dew Point', 'Cloud Type', 'Surface Albedo','Wind Speed','Pressure'])\n",
        "  df = df.fillna(0)\n",
        "  return df\n",
        "\n",
        "#Scalarization\n",
        "def scalarization(scaler, df):\n",
        "  tmp = df.drop('GHI', axis = 1)\n",
        "  scaler.fit(tmp)\n",
        "  dfTransformed = scaler.transform(tmp)\n",
        "  return dfTransformed\n"
      ]
    },
    {
      "cell_type": "markdown",
      "metadata": {
        "id": "jZQGjUQ0tgmt"
      },
      "source": [
        "#Italian Cities\n",
        "Create data frame for each city with 2017,2018 and 2019."
      ]
    },
    {
      "cell_type": "code",
      "execution_count": null,
      "metadata": {
        "id": "fVKAS50Ptd6U"
      },
      "outputs": [],
      "source": [
        "#Bari\n",
        "dfB1 = pd.read_csv('/content/drive/MyDrive/ML/Project/Bari/2017.csv', delimiter = ',')\n",
        "dfB2 = pd.read_csv('/content/drive/MyDrive/ML/Project/Bari/2018.csv', delimiter = ',')\n",
        "dfB3 = pd.read_csv('/content/drive/MyDrive/ML/Project/Bari/2019.csv', delimiter = ',')\n",
        "dfBari = finalDf(dfB1, dfB2, dfB3, \"FinaleBari\")\n",
        "\n",
        "#Torino\n",
        "dfT1 = pd.read_csv('/content/drive/MyDrive/ML/Project/Torino/2017.csv', delimiter = ',')\n",
        "dfT2 = pd.read_csv('/content/drive/MyDrive/ML/Project/Torino/2018.csv', delimiter = ',')\n",
        "dfT3 = pd.read_csv('/content/drive/MyDrive/ML/Project/Torino/2019.csv', delimiter = ',')\n",
        "dfTorino = finalDf(dfT1, dfT2, dfT3, \"FinaleTorino\")\n",
        "\n",
        "#Roma\n",
        "dfR1 = pd.read_csv('/content/drive/MyDrive/ML/Project/Roma/2017.csv', delimiter = ',')\n",
        "dfR2 = pd.read_csv('/content/drive/MyDrive/ML/Project/Roma/2018.csv', delimiter = ',')\n",
        "dfR3 = pd.read_csv('/content/drive/MyDrive/ML/Project/Roma/2019.csv', delimiter = ',')\n",
        "dfRoma = finalDf(dfR1, dfR2, dfR3, \"FinaleRoma\")"
      ]
    },
    {
      "cell_type": "markdown",
      "metadata": {
        "id": "GG2fEwwRdRBj"
      },
      "source": [
        "#PreProcessing\n",
        "\n",
        "\n",
        "1.   Drop the rows with 0 value in GHI columns.\n",
        "2.   Drop the columns which are not used in the project.\n",
        "3.   Replace the NaN values with 0.\n",
        "4.   Scaling the data with Robust Scaler.\n",
        "\n"
      ]
    },
    {
      "cell_type": "code",
      "execution_count": null,
      "metadata": {
        "colab": {
          "base_uri": "https://localhost:8080/",
          "height": 285
        },
        "id": "oALFa8cLdXba",
        "outputId": "11e342dd-5a53-4e67-e8c9-709d557fe3e9"
      },
      "outputs": [
        {
          "output_type": "execute_result",
          "data": {
            "text/plain": [
              "   Year  Month  Day  Hour  Minute  Temperature  Cloud Type  Dew Point  DHI  \\\n",
              "0  2017      1    1     0      30          6.9           1        1.3    0   \n",
              "1  2017      1    1     1      30          6.6           1        1.6    0   \n",
              "2  2017      1    1     2      30          6.4           1        1.9    0   \n",
              "3  2017      1    1     3      30          6.2           1        2.2    0   \n",
              "4  2017      1    1     4      30          6.1           1        2.2    0   \n",
              "\n",
              "   DNI  GHI  Relative Humidity  Surface Albedo  Pressure  Precipitable Water  \\\n",
              "0    0    0              67.28            0.06      1037                 0.8   \n",
              "1    0    0              70.47            0.06      1037                 0.8   \n",
              "2    0    0              73.17            0.06      1036                 0.7   \n",
              "3    0    0              75.36            0.06      1036                 0.7   \n",
              "4    0    0              76.27            0.06      1036                 0.7   \n",
              "\n",
              "   Wind Speed  \n",
              "0         2.3  \n",
              "1         2.5  \n",
              "2         2.6  \n",
              "3         2.6  \n",
              "4         2.6  "
            ],
            "text/html": [
              "\n",
              "  <div id=\"df-9e1898f1-d882-44ed-a359-946da2374d8c\">\n",
              "    <div class=\"colab-df-container\">\n",
              "      <div>\n",
              "<style scoped>\n",
              "    .dataframe tbody tr th:only-of-type {\n",
              "        vertical-align: middle;\n",
              "    }\n",
              "\n",
              "    .dataframe tbody tr th {\n",
              "        vertical-align: top;\n",
              "    }\n",
              "\n",
              "    .dataframe thead th {\n",
              "        text-align: right;\n",
              "    }\n",
              "</style>\n",
              "<table border=\"1\" class=\"dataframe\">\n",
              "  <thead>\n",
              "    <tr style=\"text-align: right;\">\n",
              "      <th></th>\n",
              "      <th>Year</th>\n",
              "      <th>Month</th>\n",
              "      <th>Day</th>\n",
              "      <th>Hour</th>\n",
              "      <th>Minute</th>\n",
              "      <th>Temperature</th>\n",
              "      <th>Cloud Type</th>\n",
              "      <th>Dew Point</th>\n",
              "      <th>DHI</th>\n",
              "      <th>DNI</th>\n",
              "      <th>GHI</th>\n",
              "      <th>Relative Humidity</th>\n",
              "      <th>Surface Albedo</th>\n",
              "      <th>Pressure</th>\n",
              "      <th>Precipitable Water</th>\n",
              "      <th>Wind Speed</th>\n",
              "    </tr>\n",
              "  </thead>\n",
              "  <tbody>\n",
              "    <tr>\n",
              "      <th>0</th>\n",
              "      <td>2017</td>\n",
              "      <td>1</td>\n",
              "      <td>1</td>\n",
              "      <td>0</td>\n",
              "      <td>30</td>\n",
              "      <td>6.9</td>\n",
              "      <td>1</td>\n",
              "      <td>1.3</td>\n",
              "      <td>0</td>\n",
              "      <td>0</td>\n",
              "      <td>0</td>\n",
              "      <td>67.28</td>\n",
              "      <td>0.06</td>\n",
              "      <td>1037</td>\n",
              "      <td>0.8</td>\n",
              "      <td>2.3</td>\n",
              "    </tr>\n",
              "    <tr>\n",
              "      <th>1</th>\n",
              "      <td>2017</td>\n",
              "      <td>1</td>\n",
              "      <td>1</td>\n",
              "      <td>1</td>\n",
              "      <td>30</td>\n",
              "      <td>6.6</td>\n",
              "      <td>1</td>\n",
              "      <td>1.6</td>\n",
              "      <td>0</td>\n",
              "      <td>0</td>\n",
              "      <td>0</td>\n",
              "      <td>70.47</td>\n",
              "      <td>0.06</td>\n",
              "      <td>1037</td>\n",
              "      <td>0.8</td>\n",
              "      <td>2.5</td>\n",
              "    </tr>\n",
              "    <tr>\n",
              "      <th>2</th>\n",
              "      <td>2017</td>\n",
              "      <td>1</td>\n",
              "      <td>1</td>\n",
              "      <td>2</td>\n",
              "      <td>30</td>\n",
              "      <td>6.4</td>\n",
              "      <td>1</td>\n",
              "      <td>1.9</td>\n",
              "      <td>0</td>\n",
              "      <td>0</td>\n",
              "      <td>0</td>\n",
              "      <td>73.17</td>\n",
              "      <td>0.06</td>\n",
              "      <td>1036</td>\n",
              "      <td>0.7</td>\n",
              "      <td>2.6</td>\n",
              "    </tr>\n",
              "    <tr>\n",
              "      <th>3</th>\n",
              "      <td>2017</td>\n",
              "      <td>1</td>\n",
              "      <td>1</td>\n",
              "      <td>3</td>\n",
              "      <td>30</td>\n",
              "      <td>6.2</td>\n",
              "      <td>1</td>\n",
              "      <td>2.2</td>\n",
              "      <td>0</td>\n",
              "      <td>0</td>\n",
              "      <td>0</td>\n",
              "      <td>75.36</td>\n",
              "      <td>0.06</td>\n",
              "      <td>1036</td>\n",
              "      <td>0.7</td>\n",
              "      <td>2.6</td>\n",
              "    </tr>\n",
              "    <tr>\n",
              "      <th>4</th>\n",
              "      <td>2017</td>\n",
              "      <td>1</td>\n",
              "      <td>1</td>\n",
              "      <td>4</td>\n",
              "      <td>30</td>\n",
              "      <td>6.1</td>\n",
              "      <td>1</td>\n",
              "      <td>2.2</td>\n",
              "      <td>0</td>\n",
              "      <td>0</td>\n",
              "      <td>0</td>\n",
              "      <td>76.27</td>\n",
              "      <td>0.06</td>\n",
              "      <td>1036</td>\n",
              "      <td>0.7</td>\n",
              "      <td>2.6</td>\n",
              "    </tr>\n",
              "  </tbody>\n",
              "</table>\n",
              "</div>\n",
              "      <button class=\"colab-df-convert\" onclick=\"convertToInteractive('df-9e1898f1-d882-44ed-a359-946da2374d8c')\"\n",
              "              title=\"Convert this dataframe to an interactive table.\"\n",
              "              style=\"display:none;\">\n",
              "        \n",
              "  <svg xmlns=\"http://www.w3.org/2000/svg\" height=\"24px\"viewBox=\"0 0 24 24\"\n",
              "       width=\"24px\">\n",
              "    <path d=\"M0 0h24v24H0V0z\" fill=\"none\"/>\n",
              "    <path d=\"M18.56 5.44l.94 2.06.94-2.06 2.06-.94-2.06-.94-.94-2.06-.94 2.06-2.06.94zm-11 1L8.5 8.5l.94-2.06 2.06-.94-2.06-.94L8.5 2.5l-.94 2.06-2.06.94zm10 10l.94 2.06.94-2.06 2.06-.94-2.06-.94-.94-2.06-.94 2.06-2.06.94z\"/><path d=\"M17.41 7.96l-1.37-1.37c-.4-.4-.92-.59-1.43-.59-.52 0-1.04.2-1.43.59L10.3 9.45l-7.72 7.72c-.78.78-.78 2.05 0 2.83L4 21.41c.39.39.9.59 1.41.59.51 0 1.02-.2 1.41-.59l7.78-7.78 2.81-2.81c.8-.78.8-2.07 0-2.86zM5.41 20L4 18.59l7.72-7.72 1.47 1.35L5.41 20z\"/>\n",
              "  </svg>\n",
              "      </button>\n",
              "      \n",
              "  <style>\n",
              "    .colab-df-container {\n",
              "      display:flex;\n",
              "      flex-wrap:wrap;\n",
              "      gap: 12px;\n",
              "    }\n",
              "\n",
              "    .colab-df-convert {\n",
              "      background-color: #E8F0FE;\n",
              "      border: none;\n",
              "      border-radius: 50%;\n",
              "      cursor: pointer;\n",
              "      display: none;\n",
              "      fill: #1967D2;\n",
              "      height: 32px;\n",
              "      padding: 0 0 0 0;\n",
              "      width: 32px;\n",
              "    }\n",
              "\n",
              "    .colab-df-convert:hover {\n",
              "      background-color: #E2EBFA;\n",
              "      box-shadow: 0px 1px 2px rgba(60, 64, 67, 0.3), 0px 1px 3px 1px rgba(60, 64, 67, 0.15);\n",
              "      fill: #174EA6;\n",
              "    }\n",
              "\n",
              "    [theme=dark] .colab-df-convert {\n",
              "      background-color: #3B4455;\n",
              "      fill: #D2E3FC;\n",
              "    }\n",
              "\n",
              "    [theme=dark] .colab-df-convert:hover {\n",
              "      background-color: #434B5C;\n",
              "      box-shadow: 0px 1px 3px 1px rgba(0, 0, 0, 0.15);\n",
              "      filter: drop-shadow(0px 1px 2px rgba(0, 0, 0, 0.3));\n",
              "      fill: #FFFFFF;\n",
              "    }\n",
              "  </style>\n",
              "\n",
              "      <script>\n",
              "        const buttonEl =\n",
              "          document.querySelector('#df-9e1898f1-d882-44ed-a359-946da2374d8c button.colab-df-convert');\n",
              "        buttonEl.style.display =\n",
              "          google.colab.kernel.accessAllowed ? 'block' : 'none';\n",
              "\n",
              "        async function convertToInteractive(key) {\n",
              "          const element = document.querySelector('#df-9e1898f1-d882-44ed-a359-946da2374d8c');\n",
              "          const dataTable =\n",
              "            await google.colab.kernel.invokeFunction('convertToInteractive',\n",
              "                                                     [key], {});\n",
              "          if (!dataTable) return;\n",
              "\n",
              "          const docLinkHtml = 'Like what you see? Visit the ' +\n",
              "            '<a target=\"_blank\" href=https://colab.research.google.com/notebooks/data_table.ipynb>data table notebook</a>'\n",
              "            + ' to learn more about interactive tables.';\n",
              "          element.innerHTML = '';\n",
              "          dataTable['output_type'] = 'display_data';\n",
              "          await google.colab.output.renderOutput(dataTable, element);\n",
              "          const docLink = document.createElement('div');\n",
              "          docLink.innerHTML = docLinkHtml;\n",
              "          element.appendChild(docLink);\n",
              "        }\n",
              "      </script>\n",
              "    </div>\n",
              "  </div>\n",
              "  "
            ]
          },
          "metadata": {},
          "execution_count": 4
        }
      ],
      "source": [
        "dfBari.head()"
      ]
    },
    {
      "cell_type": "code",
      "execution_count": null,
      "metadata": {
        "id": "B0iPR8Y4uGJ-"
      },
      "outputs": [],
      "source": [
        "Bari = preProcessing(dfBari)\n",
        "Torino = preProcessing(dfTorino)\n",
        "Roma = preProcessing(dfRoma)"
      ]
    },
    {
      "cell_type": "code",
      "execution_count": null,
      "metadata": {
        "id": "AFZR-eSQMYSe"
      },
      "outputs": [],
      "source": [
        "scaler = RobustScaler() \n",
        "\n",
        "Bari_scaler = scalarization(scaler, Bari)\n",
        "Torino_scaler = scalarization(scaler, Torino)\n",
        "Roma_scaler = scalarization(scaler, Roma)"
      ]
    },
    {
      "cell_type": "code",
      "execution_count": null,
      "metadata": {
        "colab": {
          "base_uri": "https://localhost:8080/",
          "height": 204
        },
        "id": "8PuPJZ-4dcK0",
        "outputId": "baf825ed-a000-4858-f80a-cf4f3aa71e95"
      },
      "outputs": [
        {
          "output_type": "execute_result",
          "data": {
            "text/plain": [
              "    Temperature  DNI  GHI  Relative Humidity\n",
              "6           7.2  179   17              71.14\n",
              "7           9.2  602  149              64.89\n",
              "8          10.8  767  289              58.44\n",
              "9          12.0  159  227              53.15\n",
              "10         12.7  250  288              49.86"
            ],
            "text/html": [
              "\n",
              "  <div id=\"df-5d600da4-cb9b-4ea2-8075-9a7c7941af7c\">\n",
              "    <div class=\"colab-df-container\">\n",
              "      <div>\n",
              "<style scoped>\n",
              "    .dataframe tbody tr th:only-of-type {\n",
              "        vertical-align: middle;\n",
              "    }\n",
              "\n",
              "    .dataframe tbody tr th {\n",
              "        vertical-align: top;\n",
              "    }\n",
              "\n",
              "    .dataframe thead th {\n",
              "        text-align: right;\n",
              "    }\n",
              "</style>\n",
              "<table border=\"1\" class=\"dataframe\">\n",
              "  <thead>\n",
              "    <tr style=\"text-align: right;\">\n",
              "      <th></th>\n",
              "      <th>Temperature</th>\n",
              "      <th>DNI</th>\n",
              "      <th>GHI</th>\n",
              "      <th>Relative Humidity</th>\n",
              "    </tr>\n",
              "  </thead>\n",
              "  <tbody>\n",
              "    <tr>\n",
              "      <th>6</th>\n",
              "      <td>7.2</td>\n",
              "      <td>179</td>\n",
              "      <td>17</td>\n",
              "      <td>71.14</td>\n",
              "    </tr>\n",
              "    <tr>\n",
              "      <th>7</th>\n",
              "      <td>9.2</td>\n",
              "      <td>602</td>\n",
              "      <td>149</td>\n",
              "      <td>64.89</td>\n",
              "    </tr>\n",
              "    <tr>\n",
              "      <th>8</th>\n",
              "      <td>10.8</td>\n",
              "      <td>767</td>\n",
              "      <td>289</td>\n",
              "      <td>58.44</td>\n",
              "    </tr>\n",
              "    <tr>\n",
              "      <th>9</th>\n",
              "      <td>12.0</td>\n",
              "      <td>159</td>\n",
              "      <td>227</td>\n",
              "      <td>53.15</td>\n",
              "    </tr>\n",
              "    <tr>\n",
              "      <th>10</th>\n",
              "      <td>12.7</td>\n",
              "      <td>250</td>\n",
              "      <td>288</td>\n",
              "      <td>49.86</td>\n",
              "    </tr>\n",
              "  </tbody>\n",
              "</table>\n",
              "</div>\n",
              "      <button class=\"colab-df-convert\" onclick=\"convertToInteractive('df-5d600da4-cb9b-4ea2-8075-9a7c7941af7c')\"\n",
              "              title=\"Convert this dataframe to an interactive table.\"\n",
              "              style=\"display:none;\">\n",
              "        \n",
              "  <svg xmlns=\"http://www.w3.org/2000/svg\" height=\"24px\"viewBox=\"0 0 24 24\"\n",
              "       width=\"24px\">\n",
              "    <path d=\"M0 0h24v24H0V0z\" fill=\"none\"/>\n",
              "    <path d=\"M18.56 5.44l.94 2.06.94-2.06 2.06-.94-2.06-.94-.94-2.06-.94 2.06-2.06.94zm-11 1L8.5 8.5l.94-2.06 2.06-.94-2.06-.94L8.5 2.5l-.94 2.06-2.06.94zm10 10l.94 2.06.94-2.06 2.06-.94-2.06-.94-.94-2.06-.94 2.06-2.06.94z\"/><path d=\"M17.41 7.96l-1.37-1.37c-.4-.4-.92-.59-1.43-.59-.52 0-1.04.2-1.43.59L10.3 9.45l-7.72 7.72c-.78.78-.78 2.05 0 2.83L4 21.41c.39.39.9.59 1.41.59.51 0 1.02-.2 1.41-.59l7.78-7.78 2.81-2.81c.8-.78.8-2.07 0-2.86zM5.41 20L4 18.59l7.72-7.72 1.47 1.35L5.41 20z\"/>\n",
              "  </svg>\n",
              "      </button>\n",
              "      \n",
              "  <style>\n",
              "    .colab-df-container {\n",
              "      display:flex;\n",
              "      flex-wrap:wrap;\n",
              "      gap: 12px;\n",
              "    }\n",
              "\n",
              "    .colab-df-convert {\n",
              "      background-color: #E8F0FE;\n",
              "      border: none;\n",
              "      border-radius: 50%;\n",
              "      cursor: pointer;\n",
              "      display: none;\n",
              "      fill: #1967D2;\n",
              "      height: 32px;\n",
              "      padding: 0 0 0 0;\n",
              "      width: 32px;\n",
              "    }\n",
              "\n",
              "    .colab-df-convert:hover {\n",
              "      background-color: #E2EBFA;\n",
              "      box-shadow: 0px 1px 2px rgba(60, 64, 67, 0.3), 0px 1px 3px 1px rgba(60, 64, 67, 0.15);\n",
              "      fill: #174EA6;\n",
              "    }\n",
              "\n",
              "    [theme=dark] .colab-df-convert {\n",
              "      background-color: #3B4455;\n",
              "      fill: #D2E3FC;\n",
              "    }\n",
              "\n",
              "    [theme=dark] .colab-df-convert:hover {\n",
              "      background-color: #434B5C;\n",
              "      box-shadow: 0px 1px 3px 1px rgba(0, 0, 0, 0.15);\n",
              "      filter: drop-shadow(0px 1px 2px rgba(0, 0, 0, 0.3));\n",
              "      fill: #FFFFFF;\n",
              "    }\n",
              "  </style>\n",
              "\n",
              "      <script>\n",
              "        const buttonEl =\n",
              "          document.querySelector('#df-5d600da4-cb9b-4ea2-8075-9a7c7941af7c button.colab-df-convert');\n",
              "        buttonEl.style.display =\n",
              "          google.colab.kernel.accessAllowed ? 'block' : 'none';\n",
              "\n",
              "        async function convertToInteractive(key) {\n",
              "          const element = document.querySelector('#df-5d600da4-cb9b-4ea2-8075-9a7c7941af7c');\n",
              "          const dataTable =\n",
              "            await google.colab.kernel.invokeFunction('convertToInteractive',\n",
              "                                                     [key], {});\n",
              "          if (!dataTable) return;\n",
              "\n",
              "          const docLinkHtml = 'Like what you see? Visit the ' +\n",
              "            '<a target=\"_blank\" href=https://colab.research.google.com/notebooks/data_table.ipynb>data table notebook</a>'\n",
              "            + ' to learn more about interactive tables.';\n",
              "          element.innerHTML = '';\n",
              "          dataTable['output_type'] = 'display_data';\n",
              "          await google.colab.output.renderOutput(dataTable, element);\n",
              "          const docLink = document.createElement('div');\n",
              "          docLink.innerHTML = docLinkHtml;\n",
              "          element.appendChild(docLink);\n",
              "        }\n",
              "      </script>\n",
              "    </div>\n",
              "  </div>\n",
              "  "
            ]
          },
          "metadata": {},
          "execution_count": 7
        }
      ],
      "source": [
        "Bari.head()"
      ]
    },
    {
      "cell_type": "markdown",
      "metadata": {
        "id": "DSpyUiZpuIA-"
      },
      "source": [
        "#Split Data\n",
        "\n",
        "\n",
        "1.   Assign at y the GHI.\n",
        "2.   Assign at x the rest.\n",
        "3.   Split the data into train and test in 70%/30%.\n",
        "4.   Transform linear data in polynomial data with degree = 3 and do the same split of point 3.\n",
        "\n"
      ]
    },
    {
      "cell_type": "code",
      "execution_count": null,
      "metadata": {
        "id": "Ag7Qe4PUvxoL"
      },
      "outputs": [],
      "source": [
        "y_bari = Bari.GHI\n",
        "x_bari = Bari_scaler\n",
        "y_torino = Torino.GHI\n",
        "x_torino = Torino_scaler\n",
        "y_roma = Roma.GHI\n",
        "x_roma = Roma_scaler"
      ]
    },
    {
      "cell_type": "code",
      "execution_count": null,
      "metadata": {
        "colab": {
          "base_uri": "https://localhost:8080/"
        },
        "id": "ekyVBU-vdiGN",
        "outputId": "be6ba955-e918-48c4-9a70-20a73f83dc31"
      },
      "outputs": [
        {
          "output_type": "stream",
          "name": "stdout",
          "text": [
            "Bari: (13031, 3)\n",
            "Torino: (13031, 3)\n",
            "Roma: (13081, 3)\n"
          ]
        }
      ],
      "source": [
        "print(\"Bari:\", x_bari.shape)\n",
        "print(\"Torino:\", x_torino.shape)\n",
        "print(\"Roma:\", x_roma.shape)"
      ]
    },
    {
      "cell_type": "code",
      "execution_count": null,
      "metadata": {
        "id": "6TPBuXPty9nq"
      },
      "outputs": [],
      "source": [
        "#Standard split\n",
        "x_trainB, x_testB, y_trainB, y_testB = train_test_split(x_bari,y_bari,test_size=0.3)\n",
        "x_trainT, x_testT, y_trainT, y_testT = train_test_split(x_torino,y_torino,test_size=0.3)\n",
        "x_trainR, x_testR, y_trainR, y_testR = train_test_split(x_roma,y_roma,test_size=0.3)"
      ]
    },
    {
      "cell_type": "code",
      "execution_count": null,
      "metadata": {
        "id": "QDp94lA9wALH"
      },
      "outputs": [],
      "source": [
        "#Polynomial split\n",
        "quadratic = PolynomialFeatures(degree = 3)\n",
        "X_quadBari = quadratic.fit_transform(x_bari)\n",
        "X_quadTorino = quadratic.fit_transform(x_torino)\n",
        "X_quadRoma = quadratic.fit_transform(x_roma)\n",
        "\n",
        "x_trainBQ, x_testBQ, y_trainBQ, y_testBQ = train_test_split(X_quadBari,y_bari,test_size=0.3)\n",
        "x_trainTQ, x_testTQ, y_trainTQ, y_testTQ = train_test_split(X_quadTorino,y_torino,test_size=0.3)\n",
        "x_trainRQ, x_testRQ, y_trainRQ, y_testRQ = train_test_split(X_quadRoma,y_roma,test_size=0.3)"
      ]
    },
    {
      "cell_type": "markdown",
      "metadata": {
        "id": "xbwtL0dE9Hp_"
      },
      "source": [
        "#Linear Regression"
      ]
    },
    {
      "cell_type": "code",
      "execution_count": null,
      "metadata": {
        "id": "avnb20UPcrPH"
      },
      "outputs": [],
      "source": [
        "lr = linear_model.LinearRegression()"
      ]
    },
    {
      "cell_type": "code",
      "execution_count": null,
      "metadata": {
        "colab": {
          "base_uri": "https://localhost:8080/"
        },
        "id": "fGR7UsvYd4J3",
        "outputId": "36147141-f102-4a51-83c2-7ccdbd205852"
      },
      "outputs": [
        {
          "output_type": "stream",
          "name": "stdout",
          "text": [
            "The mean of scores results from cross validation is: -143.490963 \n",
            "\n",
            "The result of prediction on x_test are:\n",
            "Root Mean Squared Error:  142.4322931964319\n",
            "R2:  0.7504895942271452\n",
            "Mean Absolute Error:  113.76251440870078\n"
          ]
        }
      ],
      "source": [
        "#Bari\n",
        "resultBariLR = []\n",
        "model = cross_val_score(lr, x_trainB, y_trainB, scoring = 'neg_root_mean_squared_error',cv = 10)\n",
        "print(\"The mean of scores results from cross validation is: %f \\n\" % mean(model))\n",
        "modelF = lr.fit(x_trainB, y_trainB)\n",
        "resultBariLR = predictAndResults(modelF, x_testB, y_testB)\n",
        "stampa(resultBariLR)"
      ]
    },
    {
      "cell_type": "code",
      "execution_count": null,
      "metadata": {
        "colab": {
          "base_uri": "https://localhost:8080/"
        },
        "id": "jLFhCkXYVPT5",
        "outputId": "e4773636-14ab-4c24-aaf5-2dbaea11c46a"
      },
      "outputs": [
        {
          "output_type": "stream",
          "name": "stdout",
          "text": [
            "The mean of scores results from cross validation is: -124.639224 \n",
            "\n",
            "The result of prediction on x_test are:\n",
            "Root Mean Squared Error:  126.47270272069655\n",
            "R2:  0.8058322029064016\n",
            "Mean Absolute Error:  94.46391989228424\n"
          ]
        }
      ],
      "source": [
        "#Bari Polynomial\n",
        "resultBariLRQ = []\n",
        "model = cross_val_score(lr, x_trainBQ, y_trainBQ, scoring = 'neg_root_mean_squared_error',cv = 10)\n",
        "print(\"The mean of scores results from cross validation is: %f \\n\" % mean(model))\n",
        "modelF = lr.fit(x_trainBQ, y_trainBQ)\n",
        "resultBariLRQ = predictAndResults(modelF, x_testBQ, y_testBQ)\n",
        "stampa(resultBariLRQ)"
      ]
    },
    {
      "cell_type": "code",
      "execution_count": null,
      "metadata": {
        "colab": {
          "base_uri": "https://localhost:8080/"
        },
        "id": "_LS0mLuP9JvV",
        "outputId": "81b242f0-33a2-470c-ca45-79340391b1fb"
      },
      "outputs": [
        {
          "output_type": "stream",
          "name": "stdout",
          "text": [
            "The mean of scores results from cross validation is: -20770.371481 \n",
            "\n",
            "The result of prediction on x_test are:\n",
            "Root Mean Squared Error:  141.0525513618096\n",
            "R2:  0.7597102969071517\n",
            "Mean Absolute Error:  111.97265151848708\n"
          ]
        }
      ],
      "source": [
        "#Torino\n",
        "resultTorinoLR = []\n",
        "model = cross_val_score(lr, x_trainT, y_trainT, scoring = 'neg_mean_squared_error',cv = 10)\n",
        "print(\"The mean of scores results from cross validation is: %f \\n\" % mean(model))\n",
        "modelF = lr.fit(x_trainT, y_trainT)\n",
        "resultTorinoLR = predictAndResults(modelF, x_testT, y_testT)\n",
        "stampa(resultTorinoLR)"
      ]
    },
    {
      "cell_type": "code",
      "execution_count": null,
      "metadata": {
        "colab": {
          "base_uri": "https://localhost:8080/"
        },
        "id": "EI5nEQk4VoeD",
        "outputId": "ce3d7d2e-199a-4cb7-9f84-6c6092af10b9"
      },
      "outputs": [
        {
          "output_type": "stream",
          "name": "stdout",
          "text": [
            "The mean of scores results from cross validation is: -125.759617 \n",
            "\n",
            "The result of prediction on x_test are:\n",
            "Root Mean Squared Error:  124.15472291079064\n",
            "R2:  0.805968897817958\n",
            "Mean Absolute Error:  93.4420993905124\n"
          ]
        }
      ],
      "source": [
        "#Torino Polynomial\n",
        "resultTorinoLRQ = []\n",
        "model = cross_val_score(lr, x_trainTQ, y_trainTQ, scoring = 'neg_root_mean_squared_error',cv = 10)\n",
        "print(\"The mean of scores results from cross validation is: %f \\n\" % mean(model))\n",
        "modelF = lr.fit(x_trainTQ, y_trainTQ)\n",
        "resultTorinoLRQ = predictAndResults(modelF, x_testTQ, y_testTQ)\n",
        "stampa(resultTorinoLRQ)"
      ]
    },
    {
      "cell_type": "code",
      "execution_count": null,
      "metadata": {
        "colab": {
          "base_uri": "https://localhost:8080/"
        },
        "id": "BCcPbdpayy0p",
        "outputId": "672a1804-e4e5-4fda-f680-045898012ecc"
      },
      "outputs": [
        {
          "output_type": "stream",
          "name": "stdout",
          "text": [
            "The mean of scores results from cross validation is: -145.686852 \n",
            "\n",
            "The result of prediction on x_test are:\n",
            "Root Mean Squared Error:  142.95481760329557\n",
            "R2:  0.742686619542956\n",
            "Mean Absolute Error:  113.3212568039178\n"
          ]
        }
      ],
      "source": [
        "#Roma\n",
        "resultRomaLR = []\n",
        "model = cross_val_score(lr, x_trainR, y_trainR, scoring = 'neg_root_mean_squared_error',cv = 10)\n",
        "print(\"The mean of scores results from cross validation is: %f \\n\" % mean(model))\n",
        "modelF = lr.fit(x_trainR, y_trainR)\n",
        "resultRomaLR = predictAndResults(modelF, x_testR, y_testR)\n",
        "stampa(resultRomaLR)"
      ]
    },
    {
      "cell_type": "code",
      "execution_count": null,
      "metadata": {
        "colab": {
          "base_uri": "https://localhost:8080/"
        },
        "id": "3ECWnw-dV09x",
        "outputId": "d29ad685-90ed-48b6-ea18-48fa76622950"
      },
      "outputs": [
        {
          "output_type": "stream",
          "name": "stdout",
          "text": [
            "The mean of scores results from cross validation is: -122.760882 \n",
            "\n",
            "The result of prediction on x_test are:\n",
            "Root Mean Squared Error:  122.9131551354503\n",
            "R2:  0.8141245205207273\n",
            "Mean Absolute Error:  91.5265773983277\n"
          ]
        }
      ],
      "source": [
        "#Roma Polynomial\n",
        "resultRomaLRQ = []\n",
        "model = cross_val_score(lr, x_trainRQ, y_trainRQ, scoring = 'neg_root_mean_squared_error',cv = 10)\n",
        "print(\"The mean of scores results from cross validation is: %f \\n\" % mean(model))\n",
        "modelF = lr.fit(x_trainRQ, y_trainRQ)\n",
        "resultRomaLRQ = predictAndResults(modelF, x_testRQ, y_testRQ)\n",
        "stampa(resultRomaLRQ)"
      ]
    },
    {
      "cell_type": "markdown",
      "metadata": {
        "id": "gt-qaLMTyVux"
      },
      "source": [
        "#Elastic Net\n",
        "\n",
        "\n",
        "\n",
        "\n"
      ]
    },
    {
      "cell_type": "code",
      "execution_count": null,
      "metadata": {
        "id": "HHRUm59QEL0s"
      },
      "outputs": [],
      "source": [
        "en = ElasticNet() "
      ]
    },
    {
      "cell_type": "code",
      "execution_count": null,
      "metadata": {
        "id": "_-xzUuR5yVNu"
      },
      "outputs": [],
      "source": [
        "param_grid = {\n",
        "    'l1_ratio': [0.1,0.3,0.5,0.8,1],\n",
        "    'alpha' : [0.1,0.5,1]\n",
        "}"
      ]
    },
    {
      "cell_type": "code",
      "execution_count": null,
      "metadata": {
        "colab": {
          "base_uri": "https://localhost:8080/"
        },
        "id": "zR4GDYGbV-MK",
        "outputId": "fe27ad20-f823-4f03-e510-06b78f672b3e"
      },
      "outputs": [
        {
          "output_type": "stream",
          "name": "stdout",
          "text": [
            "Mean score: -143.858345, with: {'alpha': 0.1, 'l1_ratio': 0.1}\n",
            "Mean score: -141.600510, with: {'alpha': 0.1, 'l1_ratio': 0.3}\n",
            "Mean score: -139.246609, with: {'alpha': 0.1, 'l1_ratio': 0.5}\n",
            "Mean score: -135.114339, with: {'alpha': 0.1, 'l1_ratio': 0.8}\n",
            "Mean score: -124.722182, with: {'alpha': 0.1, 'l1_ratio': 1}\n",
            "Mean score: -172.905106, with: {'alpha': 0.5, 'l1_ratio': 0.1}\n",
            "Mean score: -166.882524, with: {'alpha': 0.5, 'l1_ratio': 0.3}\n",
            "Mean score: -159.554484, with: {'alpha': 0.5, 'l1_ratio': 0.5}\n",
            "Mean score: -145.283261, with: {'alpha': 0.5, 'l1_ratio': 0.8}\n",
            "Mean score: -126.519299, with: {'alpha': 0.5, 'l1_ratio': 1}\n",
            "Mean score: -191.570822, with: {'alpha': 1, 'l1_ratio': 0.1}\n",
            "Mean score: -184.752717, with: {'alpha': 1, 'l1_ratio': 0.3}\n",
            "Mean score: -176.002770, with: {'alpha': 1, 'l1_ratio': 0.5}\n",
            "Mean score: -155.754078, with: {'alpha': 1, 'l1_ratio': 0.8}\n",
            "Mean score: -130.547227, with: {'alpha': 1, 'l1_ratio': 1}\n",
            "Best Score: -124.72218202206997\n",
            "Best Hyperparameters: {'alpha': 0.1, 'l1_ratio': 1}\n",
            " \n",
            "The result of prediction on x_test are:\n",
            "Root Mean Squared Error:  126.54046594117067\n",
            "R2:  0.8056240795755514\n",
            "Mean Absolute Error:  94.7814431736143\n"
          ]
        }
      ],
      "source": [
        "#Bari \n",
        "resultBariENQ = []\n",
        "result = bestHyper(param_grid, x_trainBQ, y_trainBQ, en)\n",
        "best_randomB = result.best_estimator_\n",
        "\n",
        "resultBariENQ = predictAndResults(best_randomB, x_testBQ, y_testBQ)\n",
        "stampa(resultBariENQ)"
      ]
    },
    {
      "cell_type": "code",
      "execution_count": null,
      "metadata": {
        "colab": {
          "base_uri": "https://localhost:8080/"
        },
        "id": "_FfzNEseWKHp",
        "outputId": "96e4648d-7aec-4309-91b5-46ce0b894620"
      },
      "outputs": [
        {
          "output_type": "stream",
          "name": "stdout",
          "text": [
            "Mean score: -144.832693, with: {'alpha': 0.1, 'l1_ratio': 0.1}\n",
            "Mean score: -142.590023, with: {'alpha': 0.1, 'l1_ratio': 0.3}\n",
            "Mean score: -140.257814, with: {'alpha': 0.1, 'l1_ratio': 0.5}\n",
            "Mean score: -136.214258, with: {'alpha': 0.1, 'l1_ratio': 0.8}\n",
            "Mean score: -125.823464, with: {'alpha': 0.1, 'l1_ratio': 1}\n",
            "Mean score: -174.243912, with: {'alpha': 0.5, 'l1_ratio': 0.1}\n",
            "Mean score: -168.112704, with: {'alpha': 0.5, 'l1_ratio': 0.3}\n",
            "Mean score: -160.661814, with: {'alpha': 0.5, 'l1_ratio': 0.5}\n",
            "Mean score: -146.257292, with: {'alpha': 0.5, 'l1_ratio': 0.8}\n",
            "Mean score: -127.523068, with: {'alpha': 0.5, 'l1_ratio': 1}\n",
            "Mean score: -193.207941, with: {'alpha': 1, 'l1_ratio': 0.1}\n",
            "Mean score: -186.289854, with: {'alpha': 1, 'l1_ratio': 0.3}\n",
            "Mean score: -177.391506, with: {'alpha': 1, 'l1_ratio': 0.5}\n",
            "Mean score: -156.805416, with: {'alpha': 1, 'l1_ratio': 0.8}\n",
            "Mean score: -131.560377, with: {'alpha': 1, 'l1_ratio': 1}\n",
            "Best Score: -125.82346439038943\n",
            "Best Hyperparameters: {'alpha': 0.1, 'l1_ratio': 1}\n",
            " \n",
            "The result of prediction on x_test are:\n",
            "Root Mean Squared Error:  124.30728241251849\n",
            "R2:  0.805491759705311\n",
            "Mean Absolute Error:  93.74505716127184\n"
          ]
        }
      ],
      "source": [
        "#Torino\n",
        "resultTorinoENQ = []\n",
        "result = bestHyper(param_grid, x_trainTQ, y_trainTQ, en)\n",
        "best_randomT = result.best_estimator_\n",
        "\n",
        "resultTorinoENQ = predictAndResults(best_randomT, x_testTQ, y_testTQ)\n",
        "stampa(resultTorinoENQ)"
      ]
    },
    {
      "cell_type": "code",
      "execution_count": null,
      "metadata": {
        "colab": {
          "base_uri": "https://localhost:8080/"
        },
        "id": "pm_hLJ2cWfrS",
        "outputId": "86c96e1e-b1f6-4114-c6bf-7dd95f014e83"
      },
      "outputs": [
        {
          "output_type": "stream",
          "name": "stdout",
          "text": [
            "Mean score: -145.076666, with: {'alpha': 0.1, 'l1_ratio': 0.1}\n",
            "Mean score: -142.893860, with: {'alpha': 0.1, 'l1_ratio': 0.3}\n",
            "Mean score: -140.564570, with: {'alpha': 0.1, 'l1_ratio': 0.5}\n",
            "Mean score: -136.626068, with: {'alpha': 0.1, 'l1_ratio': 0.8}\n",
            "Mean score: -123.141588, with: {'alpha': 0.1, 'l1_ratio': 1}\n",
            "Mean score: -170.120725, with: {'alpha': 0.5, 'l1_ratio': 0.1}\n",
            "Mean score: -165.008320, with: {'alpha': 0.5, 'l1_ratio': 0.3}\n",
            "Mean score: -158.898584, with: {'alpha': 0.5, 'l1_ratio': 0.5}\n",
            "Mean score: -146.517155, with: {'alpha': 0.5, 'l1_ratio': 0.8}\n",
            "Mean score: -126.594993, with: {'alpha': 0.5, 'l1_ratio': 1}\n",
            "Mean score: -187.513461, with: {'alpha': 1, 'l1_ratio': 0.1}\n",
            "Mean score: -180.847877, with: {'alpha': 1, 'l1_ratio': 0.3}\n",
            "Mean score: -172.856561, with: {'alpha': 1, 'l1_ratio': 0.5}\n",
            "Mean score: -155.693742, with: {'alpha': 1, 'l1_ratio': 0.8}\n",
            "Mean score: -130.677106, with: {'alpha': 1, 'l1_ratio': 1}\n",
            "Best Score: -123.14158822119475\n",
            "Best Hyperparameters: {'alpha': 0.1, 'l1_ratio': 1}\n",
            " \n",
            "The result of prediction on x_test are:\n",
            "Root Mean Squared Error:  123.09248898712856\n",
            "R2:  0.8135817294241133\n",
            "Mean Absolute Error:  91.93082673926057\n"
          ]
        }
      ],
      "source": [
        "#Roma\n",
        "resultRomaENQ = []\n",
        "result = bestHyper(param_grid, x_trainRQ, y_trainRQ, en)\n",
        "best_randomR = result.best_estimator_\n",
        "\n",
        "resultRomaENQ = predictAndResults(best_randomR, x_testRQ, y_testRQ)\n",
        "stampa(resultRomaENQ)"
      ]
    },
    {
      "cell_type": "markdown",
      "metadata": {
        "id": "BjvaSd5yDydb"
      },
      "source": [
        "#XGBooster\n"
      ]
    },
    {
      "cell_type": "code",
      "execution_count": null,
      "metadata": {
        "id": "ZAd4rBgeH_8W"
      },
      "outputs": [],
      "source": [
        "xgr = xg.XGBRegressor(objective ='reg:squarederror')"
      ]
    },
    {
      "cell_type": "code",
      "execution_count": null,
      "metadata": {
        "id": "k-CpgYllH_RG"
      },
      "outputs": [],
      "source": [
        "param_grid = {\n",
        "    'learning_rate': [0.1,0.5,0.8,1],\n",
        "    'max_depth': [2,5,10],\n",
        "    'n_estimators' : [50,100]\n",
        "}"
      ]
    },
    {
      "cell_type": "code",
      "execution_count": null,
      "metadata": {
        "colab": {
          "base_uri": "https://localhost:8080/"
        },
        "id": "DsmpsIXBOaD9",
        "outputId": "4435b272-4e44-4d39-b3fd-3ea0ff505deb"
      },
      "outputs": [
        {
          "output_type": "stream",
          "name": "stdout",
          "text": [
            "Mean score: -126.397342, with: {'learning_rate': 0.1, 'max_depth': 2, 'n_estimators': 50}\n",
            "Mean score: -123.986697, with: {'learning_rate': 0.1, 'max_depth': 2, 'n_estimators': 100}\n",
            "Mean score: -118.584307, with: {'learning_rate': 0.1, 'max_depth': 5, 'n_estimators': 50}\n",
            "Mean score: -118.184349, with: {'learning_rate': 0.1, 'max_depth': 5, 'n_estimators': 100}\n",
            "Mean score: -120.739814, with: {'learning_rate': 0.1, 'max_depth': 10, 'n_estimators': 50}\n",
            "Mean score: -121.601864, with: {'learning_rate': 0.1, 'max_depth': 10, 'n_estimators': 100}\n",
            "Mean score: -122.625884, with: {'learning_rate': 0.5, 'max_depth': 2, 'n_estimators': 50}\n",
            "Mean score: -121.567092, with: {'learning_rate': 0.5, 'max_depth': 2, 'n_estimators': 100}\n",
            "Mean score: -122.380327, with: {'learning_rate': 0.5, 'max_depth': 5, 'n_estimators': 50}\n",
            "Mean score: -125.112954, with: {'learning_rate': 0.5, 'max_depth': 5, 'n_estimators': 100}\n",
            "Mean score: -130.880721, with: {'learning_rate': 0.5, 'max_depth': 10, 'n_estimators': 50}\n",
            "Mean score: -132.984421, with: {'learning_rate': 0.5, 'max_depth': 10, 'n_estimators': 100}\n",
            "Mean score: -121.733763, with: {'learning_rate': 0.8, 'max_depth': 2, 'n_estimators': 50}\n",
            "Mean score: -121.717726, with: {'learning_rate': 0.8, 'max_depth': 2, 'n_estimators': 100}\n",
            "Mean score: -129.405157, with: {'learning_rate': 0.8, 'max_depth': 5, 'n_estimators': 50}\n",
            "Mean score: -134.316543, with: {'learning_rate': 0.8, 'max_depth': 5, 'n_estimators': 100}\n",
            "Mean score: -141.557888, with: {'learning_rate': 0.8, 'max_depth': 10, 'n_estimators': 50}\n",
            "Mean score: -142.645494, with: {'learning_rate': 0.8, 'max_depth': 10, 'n_estimators': 100}\n",
            "Mean score: -123.048613, with: {'learning_rate': 1, 'max_depth': 2, 'n_estimators': 50}\n",
            "Mean score: -123.721908, with: {'learning_rate': 1, 'max_depth': 2, 'n_estimators': 100}\n",
            "Mean score: -135.994160, with: {'learning_rate': 1, 'max_depth': 5, 'n_estimators': 50}\n",
            "Mean score: -142.532133, with: {'learning_rate': 1, 'max_depth': 5, 'n_estimators': 100}\n",
            "Mean score: -149.970222, with: {'learning_rate': 1, 'max_depth': 10, 'n_estimators': 50}\n",
            "Mean score: -150.413393, with: {'learning_rate': 1, 'max_depth': 10, 'n_estimators': 100}\n",
            "Best Score: -118.18434872759092\n",
            "Best Hyperparameters: {'learning_rate': 0.1, 'max_depth': 5, 'n_estimators': 100}\n",
            " \n",
            "The result of prediction on x_test are:\n",
            "Root Mean Squared Error:  118.99588217934202\n",
            "R2:  0.8258451412682313\n",
            "Mean Absolute Error:  87.18201038941093\n"
          ]
        }
      ],
      "source": [
        "#Bari\n",
        "resultBariXG = []\n",
        "result = bestHyper(param_grid, x_trainB, y_trainB, xgr)\n",
        "best_randomB = result.best_estimator_\n",
        "\n",
        "resultBariXG = predictAndResults(best_randomB, x_testB, y_testB)\n",
        "stampa(resultBariXG)"
      ]
    },
    {
      "cell_type": "code",
      "execution_count": null,
      "metadata": {
        "colab": {
          "base_uri": "https://localhost:8080/"
        },
        "id": "11I8ua9QuceR",
        "outputId": "a39edb1b-1b81-43a1-bea7-04394cc73382"
      },
      "outputs": [
        {
          "output_type": "stream",
          "name": "stdout",
          "text": [
            "Mean score: -127.254452, with: {'learning_rate': 0.1, 'max_depth': 2, 'n_estimators': 50}\n",
            "Mean score: -125.084360, with: {'learning_rate': 0.1, 'max_depth': 2, 'n_estimators': 100}\n",
            "Mean score: -120.723347, with: {'learning_rate': 0.1, 'max_depth': 5, 'n_estimators': 50}\n",
            "Mean score: -120.887323, with: {'learning_rate': 0.1, 'max_depth': 5, 'n_estimators': 100}\n",
            "Mean score: -123.668107, with: {'learning_rate': 0.1, 'max_depth': 10, 'n_estimators': 50}\n",
            "Mean score: -124.817796, with: {'learning_rate': 0.1, 'max_depth': 10, 'n_estimators': 100}\n",
            "Mean score: -123.661816, with: {'learning_rate': 0.5, 'max_depth': 2, 'n_estimators': 50}\n",
            "Mean score: -123.062569, with: {'learning_rate': 0.5, 'max_depth': 2, 'n_estimators': 100}\n",
            "Mean score: -125.828443, with: {'learning_rate': 0.5, 'max_depth': 5, 'n_estimators': 50}\n",
            "Mean score: -128.903649, with: {'learning_rate': 0.5, 'max_depth': 5, 'n_estimators': 100}\n",
            "Mean score: -136.352542, with: {'learning_rate': 0.5, 'max_depth': 10, 'n_estimators': 50}\n",
            "Mean score: -138.667555, with: {'learning_rate': 0.5, 'max_depth': 10, 'n_estimators': 100}\n",
            "Mean score: -124.072493, with: {'learning_rate': 0.8, 'max_depth': 2, 'n_estimators': 50}\n",
            "Mean score: -123.935110, with: {'learning_rate': 0.8, 'max_depth': 2, 'n_estimators': 100}\n",
            "Mean score: -132.610764, with: {'learning_rate': 0.8, 'max_depth': 5, 'n_estimators': 50}\n",
            "Mean score: -138.216493, with: {'learning_rate': 0.8, 'max_depth': 5, 'n_estimators': 100}\n",
            "Mean score: -144.918097, with: {'learning_rate': 0.8, 'max_depth': 10, 'n_estimators': 50}\n",
            "Mean score: -146.050501, with: {'learning_rate': 0.8, 'max_depth': 10, 'n_estimators': 100}\n",
            "Mean score: -124.334297, with: {'learning_rate': 1, 'max_depth': 2, 'n_estimators': 50}\n",
            "Mean score: -124.922909, with: {'learning_rate': 1, 'max_depth': 2, 'n_estimators': 100}\n",
            "Mean score: -137.725660, with: {'learning_rate': 1, 'max_depth': 5, 'n_estimators': 50}\n",
            "Mean score: -144.115651, with: {'learning_rate': 1, 'max_depth': 5, 'n_estimators': 100}\n",
            "Mean score: -155.189415, with: {'learning_rate': 1, 'max_depth': 10, 'n_estimators': 50}\n",
            "Mean score: -155.598425, with: {'learning_rate': 1, 'max_depth': 10, 'n_estimators': 100}\n",
            "Best Score: -120.7233474913191\n",
            "Best Hyperparameters: {'learning_rate': 0.1, 'max_depth': 5, 'n_estimators': 50}\n",
            " \n",
            "The result of prediction on x_test are:\n",
            "Root Mean Squared Error:  116.37144927548005\n",
            "R2:  0.836444122807173\n",
            "Mean Absolute Error:  84.36852260184715\n"
          ]
        }
      ],
      "source": [
        "#Torino\n",
        "resultTorinoXG = []\n",
        "result = bestHyper(param_grid, x_trainT, y_trainT, xgr)\n",
        "best_randomT = result.best_estimator_\n",
        "\n",
        "resultTorinoXG = predictAndResults(best_randomT, x_testT, y_testT)\n",
        "stampa(resultTorinoXG)"
      ]
    },
    {
      "cell_type": "code",
      "execution_count": null,
      "metadata": {
        "colab": {
          "base_uri": "https://localhost:8080/"
        },
        "id": "kim6VlHiumKB",
        "outputId": "c9016bb7-7555-4ddf-9024-61ba0a2d140a"
      },
      "outputs": [
        {
          "output_type": "stream",
          "name": "stdout",
          "text": [
            "Mean score: -125.710166, with: {'learning_rate': 0.1, 'max_depth': 2, 'n_estimators': 50}\n",
            "Mean score: -123.829046, with: {'learning_rate': 0.1, 'max_depth': 2, 'n_estimators': 100}\n",
            "Mean score: -118.346060, with: {'learning_rate': 0.1, 'max_depth': 5, 'n_estimators': 50}\n",
            "Mean score: -118.114955, with: {'learning_rate': 0.1, 'max_depth': 5, 'n_estimators': 100}\n",
            "Mean score: -121.246740, with: {'learning_rate': 0.1, 'max_depth': 10, 'n_estimators': 50}\n",
            "Mean score: -122.598867, with: {'learning_rate': 0.1, 'max_depth': 10, 'n_estimators': 100}\n",
            "Mean score: -122.789619, with: {'learning_rate': 0.5, 'max_depth': 2, 'n_estimators': 50}\n",
            "Mean score: -121.158912, with: {'learning_rate': 0.5, 'max_depth': 2, 'n_estimators': 100}\n",
            "Mean score: -122.531686, with: {'learning_rate': 0.5, 'max_depth': 5, 'n_estimators': 50}\n",
            "Mean score: -125.814866, with: {'learning_rate': 0.5, 'max_depth': 5, 'n_estimators': 100}\n",
            "Mean score: -131.301631, with: {'learning_rate': 0.5, 'max_depth': 10, 'n_estimators': 50}\n",
            "Mean score: -132.985487, with: {'learning_rate': 0.5, 'max_depth': 10, 'n_estimators': 100}\n",
            "Mean score: -122.256785, with: {'learning_rate': 0.8, 'max_depth': 2, 'n_estimators': 50}\n",
            "Mean score: -121.909135, with: {'learning_rate': 0.8, 'max_depth': 2, 'n_estimators': 100}\n",
            "Mean score: -129.053969, with: {'learning_rate': 0.8, 'max_depth': 5, 'n_estimators': 50}\n",
            "Mean score: -135.110228, with: {'learning_rate': 0.8, 'max_depth': 5, 'n_estimators': 100}\n",
            "Mean score: -142.189857, with: {'learning_rate': 0.8, 'max_depth': 10, 'n_estimators': 50}\n",
            "Mean score: -142.916104, with: {'learning_rate': 0.8, 'max_depth': 10, 'n_estimators': 100}\n",
            "Mean score: -122.962328, with: {'learning_rate': 1, 'max_depth': 2, 'n_estimators': 50}\n",
            "Mean score: -123.039009, with: {'learning_rate': 1, 'max_depth': 2, 'n_estimators': 100}\n",
            "Mean score: -135.307690, with: {'learning_rate': 1, 'max_depth': 5, 'n_estimators': 50}\n",
            "Mean score: -141.004264, with: {'learning_rate': 1, 'max_depth': 5, 'n_estimators': 100}\n",
            "Mean score: -148.066763, with: {'learning_rate': 1, 'max_depth': 10, 'n_estimators': 50}\n",
            "Mean score: -148.470777, with: {'learning_rate': 1, 'max_depth': 10, 'n_estimators': 100}\n",
            "Best Score: -118.1149546155049\n",
            "Best Hyperparameters: {'learning_rate': 0.1, 'max_depth': 5, 'n_estimators': 100}\n",
            " \n",
            "The result of prediction on x_test are:\n",
            "Root Mean Squared Error:  116.03209378190446\n",
            "R2:  0.8304799635500248\n",
            "Mean Absolute Error:  82.69942773879713\n"
          ]
        }
      ],
      "source": [
        "#Roma\n",
        "resultRomaXG = []\n",
        "result = bestHyper(param_grid, x_trainR, y_trainR, xgr)\n",
        "best_randomR = result.best_estimator_\n",
        "\n",
        "resultRomaXG = predictAndResults(best_randomR, x_testR, y_testR)\n",
        "stampa(resultRomaXG)"
      ]
    },
    {
      "cell_type": "markdown",
      "metadata": {
        "id": "Koy8vLc7t3Ze"
      },
      "source": [
        "#Random Forest"
      ]
    },
    {
      "cell_type": "code",
      "execution_count": null,
      "metadata": {
        "id": "ddzkTEGUeaiA"
      },
      "outputs": [],
      "source": [
        "rf = RandomForestRegressor()"
      ]
    },
    {
      "cell_type": "code",
      "execution_count": null,
      "metadata": {
        "id": "BHvBfbprJFg0"
      },
      "outputs": [],
      "source": [
        "param_grid = {\n",
        "    'max_depth':  [4,5,6],\n",
        "    'n_estimators' : list(range(100,160, 10)),\n",
        "}"
      ]
    },
    {
      "cell_type": "code",
      "execution_count": null,
      "metadata": {
        "colab": {
          "base_uri": "https://localhost:8080/"
        },
        "id": "XGHv6FbI0Q-6",
        "outputId": "b5a5a7bc-1c25-4a13-89ab-2db3a657c418"
      },
      "outputs": [
        {
          "output_type": "stream",
          "name": "stdout",
          "text": [
            "Mean score: -129.427480, with: {'max_depth': 4, 'n_estimators': 100}\n",
            "Mean score: -129.421478, with: {'max_depth': 4, 'n_estimators': 110}\n",
            "Mean score: -129.422883, with: {'max_depth': 4, 'n_estimators': 120}\n",
            "Mean score: -129.383107, with: {'max_depth': 4, 'n_estimators': 130}\n",
            "Mean score: -129.356499, with: {'max_depth': 4, 'n_estimators': 140}\n",
            "Mean score: -129.338656, with: {'max_depth': 4, 'n_estimators': 150}\n",
            "Mean score: -124.983154, with: {'max_depth': 5, 'n_estimators': 100}\n",
            "Mean score: -125.044495, with: {'max_depth': 5, 'n_estimators': 110}\n",
            "Mean score: -125.046463, with: {'max_depth': 5, 'n_estimators': 120}\n",
            "Mean score: -125.030168, with: {'max_depth': 5, 'n_estimators': 130}\n",
            "Mean score: -124.943967, with: {'max_depth': 5, 'n_estimators': 140}\n",
            "Mean score: -124.957102, with: {'max_depth': 5, 'n_estimators': 150}\n",
            "Mean score: -122.137764, with: {'max_depth': 6, 'n_estimators': 100}\n",
            "Mean score: -122.010511, with: {'max_depth': 6, 'n_estimators': 110}\n",
            "Mean score: -122.061564, with: {'max_depth': 6, 'n_estimators': 120}\n",
            "Mean score: -122.089886, with: {'max_depth': 6, 'n_estimators': 130}\n",
            "Mean score: -122.006948, with: {'max_depth': 6, 'n_estimators': 140}\n",
            "Mean score: -122.070431, with: {'max_depth': 6, 'n_estimators': 150}\n",
            "Best Score: -122.00694756702589\n",
            "Best Hyperparameters: {'max_depth': 6, 'n_estimators': 140}\n",
            " \n",
            "The result of prediction on x_test are:\n",
            "Root Mean Squared Error:  121.90682713494523\n",
            "R2:  0.8172203735629299\n",
            "Mean Absolute Error:  90.5083637430832\n"
          ]
        }
      ],
      "source": [
        "#Bari \n",
        "result = bestHyper(param_grid, x_trainB, y_trainB, rf)\n",
        "best_randomB = result.best_estimator_\n",
        "\n",
        "resultBariRF = []\n",
        "resultBariRF = predictAndResults(best_randomB, x_testB, y_testB)\n",
        "stampa(resultBariRF)"
      ]
    },
    {
      "cell_type": "code",
      "execution_count": null,
      "metadata": {
        "colab": {
          "base_uri": "https://localhost:8080/"
        },
        "id": "2a4EDkba1sLx",
        "outputId": "b610aba1-ecdd-4d3e-d6ff-bdabc24c238d"
      },
      "outputs": [
        {
          "output_type": "stream",
          "name": "stdout",
          "text": [
            "Mean score: -129.944789, with: {'max_depth': 4, 'n_estimators': 100}\n",
            "Mean score: -129.900421, with: {'max_depth': 4, 'n_estimators': 110}\n",
            "Mean score: -129.944788, with: {'max_depth': 4, 'n_estimators': 120}\n",
            "Mean score: -129.988753, with: {'max_depth': 4, 'n_estimators': 130}\n",
            "Mean score: -130.142165, with: {'max_depth': 4, 'n_estimators': 140}\n",
            "Mean score: -129.895331, with: {'max_depth': 4, 'n_estimators': 150}\n",
            "Mean score: -125.791704, with: {'max_depth': 5, 'n_estimators': 100}\n",
            "Mean score: -125.918539, with: {'max_depth': 5, 'n_estimators': 110}\n",
            "Mean score: -125.842421, with: {'max_depth': 5, 'n_estimators': 120}\n",
            "Mean score: -125.944223, with: {'max_depth': 5, 'n_estimators': 130}\n",
            "Mean score: -125.891871, with: {'max_depth': 5, 'n_estimators': 140}\n",
            "Mean score: -125.901827, with: {'max_depth': 5, 'n_estimators': 150}\n",
            "Mean score: -123.377233, with: {'max_depth': 6, 'n_estimators': 100}\n",
            "Mean score: -123.362501, with: {'max_depth': 6, 'n_estimators': 110}\n",
            "Mean score: -123.294254, with: {'max_depth': 6, 'n_estimators': 120}\n",
            "Mean score: -123.366320, with: {'max_depth': 6, 'n_estimators': 130}\n",
            "Mean score: -123.391759, with: {'max_depth': 6, 'n_estimators': 140}\n",
            "Mean score: -123.395364, with: {'max_depth': 6, 'n_estimators': 150}\n",
            "Best Score: -123.29425444715639\n",
            "Best Hyperparameters: {'max_depth': 6, 'n_estimators': 120}\n",
            " \n",
            "The result of prediction on x_test are:\n",
            "Root Mean Squared Error:  120.26171127764545\n",
            "R2:  0.8253260958112185\n",
            "Mean Absolute Error:  87.85998924101234\n"
          ]
        }
      ],
      "source": [
        "#Torino\n",
        "resultTorinoRF = []\n",
        "result = bestHyper(param_grid, x_trainT, y_trainT, rf)\n",
        "best_randomT = result.best_estimator_\n",
        "\n",
        "resultTorinoRF = predictAndResults(best_randomT, x_testT, y_testT)\n",
        "stampa(resultTorinoRF)"
      ]
    },
    {
      "cell_type": "code",
      "execution_count": null,
      "metadata": {
        "colab": {
          "base_uri": "https://localhost:8080/"
        },
        "id": "MfOlG5W4Xjzo",
        "outputId": "ba1101d8-33f1-48bf-dc5f-f4e3b0d608da"
      },
      "outputs": [
        {
          "output_type": "stream",
          "name": "stdout",
          "text": [
            "Mean score: -127.096098, with: {'max_depth': 4, 'n_estimators': 100}\n",
            "Mean score: -127.063686, with: {'max_depth': 4, 'n_estimators': 110}\n",
            "Mean score: -127.034840, with: {'max_depth': 4, 'n_estimators': 120}\n",
            "Mean score: -127.084484, with: {'max_depth': 4, 'n_estimators': 130}\n",
            "Mean score: -127.181711, with: {'max_depth': 4, 'n_estimators': 140}\n",
            "Mean score: -127.130982, with: {'max_depth': 4, 'n_estimators': 150}\n",
            "Mean score: -123.396841, with: {'max_depth': 5, 'n_estimators': 100}\n",
            "Mean score: -123.435475, with: {'max_depth': 5, 'n_estimators': 110}\n",
            "Mean score: -123.435981, with: {'max_depth': 5, 'n_estimators': 120}\n",
            "Mean score: -123.450078, with: {'max_depth': 5, 'n_estimators': 130}\n",
            "Mean score: -123.417672, with: {'max_depth': 5, 'n_estimators': 140}\n",
            "Mean score: -123.410948, with: {'max_depth': 5, 'n_estimators': 150}\n",
            "Mean score: -121.067260, with: {'max_depth': 6, 'n_estimators': 100}\n",
            "Mean score: -121.102565, with: {'max_depth': 6, 'n_estimators': 110}\n",
            "Mean score: -121.131494, with: {'max_depth': 6, 'n_estimators': 120}\n",
            "Mean score: -121.099857, with: {'max_depth': 6, 'n_estimators': 130}\n",
            "Mean score: -121.081579, with: {'max_depth': 6, 'n_estimators': 140}\n",
            "Mean score: -121.087409, with: {'max_depth': 6, 'n_estimators': 150}\n",
            "Best Score: -121.0672595955247\n",
            "Best Hyperparameters: {'max_depth': 6, 'n_estimators': 100}\n",
            " \n",
            "The result of prediction on x_test are:\n",
            "Root Mean Squared Error:  119.94950906258207\n",
            "R2:  0.818840243406991\n",
            "Mean Absolute Error:  86.80367684562613\n"
          ]
        }
      ],
      "source": [
        "#Roma\n",
        "resultRomaRF = []\n",
        "result = bestHyper(param_grid, x_trainR, y_trainR, rf)\n",
        "best_randomR = result.best_estimator_\n",
        "\n",
        "resultRomaRF = predictAndResults(best_randomR, x_testR, y_testR)\n",
        "stampa(resultRomaRF)"
      ]
    },
    {
      "cell_type": "markdown",
      "metadata": {
        "id": "HQ2twHfstkrf"
      },
      "source": [
        "#KNR"
      ]
    },
    {
      "cell_type": "code",
      "execution_count": null,
      "metadata": {
        "id": "QyvTkNowag0e"
      },
      "outputs": [],
      "source": [
        "knr = KNeighborsRegressor()"
      ]
    },
    {
      "cell_type": "code",
      "execution_count": null,
      "metadata": {
        "id": "SjAvDpM8D7vb"
      },
      "outputs": [],
      "source": [
        "param_grid = {\n",
        "    'n_neighbors': list(range(5,10,1)),\n",
        "    'metric' : ['euclidean', 'manhattan', 'chebyshev', 'minkowski']\n",
        "}"
      ]
    },
    {
      "cell_type": "code",
      "execution_count": null,
      "metadata": {
        "colab": {
          "base_uri": "https://localhost:8080/"
        },
        "id": "C_c5YvWf4EQv",
        "outputId": "df323207-bc56-4029-e149-745f0cce659a"
      },
      "outputs": [
        {
          "output_type": "stream",
          "name": "stdout",
          "text": [
            "Mean score: -125.797774, with: {'metric': 'euclidean', 'n_neighbors': 5}\n",
            "Mean score: -124.582082, with: {'metric': 'euclidean', 'n_neighbors': 6}\n",
            "Mean score: -123.774482, with: {'metric': 'euclidean', 'n_neighbors': 7}\n",
            "Mean score: -123.192743, with: {'metric': 'euclidean', 'n_neighbors': 8}\n",
            "Mean score: -122.354214, with: {'metric': 'euclidean', 'n_neighbors': 9}\n",
            "Mean score: -125.387908, with: {'metric': 'manhattan', 'n_neighbors': 5}\n",
            "Mean score: -124.383305, with: {'metric': 'manhattan', 'n_neighbors': 6}\n",
            "Mean score: -123.398985, with: {'metric': 'manhattan', 'n_neighbors': 7}\n",
            "Mean score: -122.882365, with: {'metric': 'manhattan', 'n_neighbors': 8}\n",
            "Mean score: -122.426084, with: {'metric': 'manhattan', 'n_neighbors': 9}\n",
            "Mean score: -126.888922, with: {'metric': 'chebyshev', 'n_neighbors': 5}\n",
            "Mean score: -125.526274, with: {'metric': 'chebyshev', 'n_neighbors': 6}\n",
            "Mean score: -124.506702, with: {'metric': 'chebyshev', 'n_neighbors': 7}\n",
            "Mean score: -124.042629, with: {'metric': 'chebyshev', 'n_neighbors': 8}\n",
            "Mean score: -123.607504, with: {'metric': 'chebyshev', 'n_neighbors': 9}\n",
            "Mean score: -125.797774, with: {'metric': 'minkowski', 'n_neighbors': 5}\n",
            "Mean score: -124.582082, with: {'metric': 'minkowski', 'n_neighbors': 6}\n",
            "Mean score: -123.774482, with: {'metric': 'minkowski', 'n_neighbors': 7}\n",
            "Mean score: -123.192743, with: {'metric': 'minkowski', 'n_neighbors': 8}\n",
            "Mean score: -122.354214, with: {'metric': 'minkowski', 'n_neighbors': 9}\n",
            "Best Score: -122.35421373715232\n",
            "Best Hyperparameters: {'metric': 'euclidean', 'n_neighbors': 9}\n",
            " \n",
            "The result of prediction on x_test are:\n",
            "Root Mean Squared Error:  123.75757181830295\n",
            "R2:  0.811628459816101\n",
            "Mean Absolute Error:  91.81986359761297\n"
          ]
        }
      ],
      "source": [
        "#Bari\n",
        "resultBariKNR = []\n",
        "result = bestHyper(param_grid, x_trainB, y_trainB, knr)\n",
        "best_randomB = result.best_estimator_\n",
        "\n",
        "resultBariKNR = predictAndResults(best_randomB, x_testB, y_testB)\n",
        "stampa(resultBariKNR)"
      ]
    },
    {
      "cell_type": "code",
      "execution_count": null,
      "metadata": {
        "colab": {
          "base_uri": "https://localhost:8080/"
        },
        "id": "u1eAPZ-HcK-n",
        "outputId": "b5c6aa8f-bd87-4089-e94b-eb399206af70"
      },
      "outputs": [
        {
          "output_type": "stream",
          "name": "stdout",
          "text": [
            "Mean score: -128.836801, with: {'metric': 'euclidean', 'n_neighbors': 5}\n",
            "Mean score: -127.595583, with: {'metric': 'euclidean', 'n_neighbors': 6}\n",
            "Mean score: -126.509193, with: {'metric': 'euclidean', 'n_neighbors': 7}\n",
            "Mean score: -125.872622, with: {'metric': 'euclidean', 'n_neighbors': 8}\n",
            "Mean score: -125.463572, with: {'metric': 'euclidean', 'n_neighbors': 9}\n",
            "Mean score: -129.025127, with: {'metric': 'manhattan', 'n_neighbors': 5}\n",
            "Mean score: -127.647130, with: {'metric': 'manhattan', 'n_neighbors': 6}\n",
            "Mean score: -126.435308, with: {'metric': 'manhattan', 'n_neighbors': 7}\n",
            "Mean score: -125.432512, with: {'metric': 'manhattan', 'n_neighbors': 8}\n",
            "Mean score: -125.020704, with: {'metric': 'manhattan', 'n_neighbors': 9}\n",
            "Mean score: -129.553774, with: {'metric': 'chebyshev', 'n_neighbors': 5}\n",
            "Mean score: -128.041901, with: {'metric': 'chebyshev', 'n_neighbors': 6}\n",
            "Mean score: -127.214679, with: {'metric': 'chebyshev', 'n_neighbors': 7}\n",
            "Mean score: -126.822077, with: {'metric': 'chebyshev', 'n_neighbors': 8}\n",
            "Mean score: -126.352648, with: {'metric': 'chebyshev', 'n_neighbors': 9}\n",
            "Mean score: -128.836801, with: {'metric': 'minkowski', 'n_neighbors': 5}\n",
            "Mean score: -127.595583, with: {'metric': 'minkowski', 'n_neighbors': 6}\n",
            "Mean score: -126.509193, with: {'metric': 'minkowski', 'n_neighbors': 7}\n",
            "Mean score: -125.872622, with: {'metric': 'minkowski', 'n_neighbors': 8}\n",
            "Mean score: -125.463572, with: {'metric': 'minkowski', 'n_neighbors': 9}\n",
            "Best Score: -125.02070403744983\n",
            "Best Hyperparameters: {'metric': 'manhattan', 'n_neighbors': 9}\n",
            " \n",
            "The result of prediction on x_test are:\n",
            "Root Mean Squared Error:  119.32111421362266\n",
            "R2:  0.8280477476597363\n",
            "Mean Absolute Error:  87.04464336459222\n"
          ]
        }
      ],
      "source": [
        "#Torino\n",
        "resultTorinoKNR = []\n",
        "result = bestHyper(param_grid, x_trainT, y_trainT, knr)\n",
        "best_randomT = result.best_estimator_\n",
        "\n",
        "resultTorinoKNR = predictAndResults(best_randomT, x_testT, y_testT)\n",
        "stampa(resultTorinoKNR)\n"
      ]
    },
    {
      "cell_type": "code",
      "execution_count": null,
      "metadata": {
        "colab": {
          "base_uri": "https://localhost:8080/"
        },
        "id": "x-x8AULYcYYY",
        "outputId": "93539069-9ec6-4dcf-a280-004ffb864106"
      },
      "outputs": [
        {
          "output_type": "stream",
          "name": "stdout",
          "text": [
            "Mean score: -125.341993, with: {'metric': 'euclidean', 'n_neighbors': 5}\n",
            "Mean score: -124.311321, with: {'metric': 'euclidean', 'n_neighbors': 6}\n",
            "Mean score: -123.996656, with: {'metric': 'euclidean', 'n_neighbors': 7}\n",
            "Mean score: -123.363615, with: {'metric': 'euclidean', 'n_neighbors': 8}\n",
            "Mean score: -123.083868, with: {'metric': 'euclidean', 'n_neighbors': 9}\n",
            "Mean score: -125.861108, with: {'metric': 'manhattan', 'n_neighbors': 5}\n",
            "Mean score: -124.260986, with: {'metric': 'manhattan', 'n_neighbors': 6}\n",
            "Mean score: -123.284994, with: {'metric': 'manhattan', 'n_neighbors': 7}\n",
            "Mean score: -122.804155, with: {'metric': 'manhattan', 'n_neighbors': 8}\n",
            "Mean score: -122.282474, with: {'metric': 'manhattan', 'n_neighbors': 9}\n",
            "Mean score: -126.291887, with: {'metric': 'chebyshev', 'n_neighbors': 5}\n",
            "Mean score: -125.082301, with: {'metric': 'chebyshev', 'n_neighbors': 6}\n",
            "Mean score: -124.295493, with: {'metric': 'chebyshev', 'n_neighbors': 7}\n",
            "Mean score: -123.582954, with: {'metric': 'chebyshev', 'n_neighbors': 8}\n",
            "Mean score: -123.254961, with: {'metric': 'chebyshev', 'n_neighbors': 9}\n",
            "Mean score: -125.341993, with: {'metric': 'minkowski', 'n_neighbors': 5}\n",
            "Mean score: -124.311321, with: {'metric': 'minkowski', 'n_neighbors': 6}\n",
            "Mean score: -123.996656, with: {'metric': 'minkowski', 'n_neighbors': 7}\n",
            "Mean score: -123.363615, with: {'metric': 'minkowski', 'n_neighbors': 8}\n",
            "Mean score: -123.083868, with: {'metric': 'minkowski', 'n_neighbors': 9}\n",
            "Best Score: -122.28247435897688\n",
            "Best Hyperparameters: {'metric': 'manhattan', 'n_neighbors': 9}\n",
            " \n",
            "The result of prediction on x_test are:\n",
            "Root Mean Squared Error:  122.64328996358154\n",
            "R2:  0.8106120412410216\n",
            "Mean Absolute Error:  87.57800424628451\n"
          ]
        }
      ],
      "source": [
        "#Roma\n",
        "resultRomaKNR = []\n",
        "result = bestHyper(param_grid, x_trainR, y_trainR, knr)\n",
        "best_randomR = result.best_estimator_\n",
        "\n",
        "resultRomaKNR = predictAndResults(best_randomR, x_testR, y_testR)\n",
        "stampa(resultRomaKNR)"
      ]
    },
    {
      "cell_type": "markdown",
      "metadata": {
        "id": "NU__dYMHycrG"
      },
      "source": [
        "#Artificial Neural Network\n",
        "\n"
      ]
    },
    {
      "cell_type": "code",
      "execution_count": null,
      "metadata": {
        "id": "thJ3qpwSggFe"
      },
      "outputs": [],
      "source": [
        "from keras import regularizers\n",
        "def built_class():  \n",
        "  model = Sequential()\n",
        "  model.add(Dense(64,input_dim=3, kernel_initializer=\"random_uniform\", activation = \"relu\", kernel_regularizer = regularizers.l1(0.1)))\n",
        "  model.add(Dense(32, activation =\"relu\", kernel_regularizer = regularizers.l1(0.1)))\n",
        "  model.add(Dropout(0.2))\n",
        "  model.add(Dense(1, activation=\"linear\"))\n",
        "\n",
        "  opt = Adam(learning_rate=0.01)\n",
        "  model.compile(loss=\"mean_squared_error\", optimizer=opt, metrics=['mse'])\n",
        "\n",
        "  return model"
      ]
    },
    {
      "cell_type": "code",
      "execution_count": null,
      "metadata": {
        "colab": {
          "base_uri": "https://localhost:8080/"
        },
        "id": "kw0NFbpyCMdN",
        "outputId": "adb7f335-dc35-4812-9832-dfa85d1166e2"
      },
      "outputs": [
        {
          "output_type": "stream",
          "name": "stderr",
          "text": [
            "/usr/local/lib/python3.7/dist-packages/ipykernel_launcher.py:1: DeprecationWarning: KerasRegressor is deprecated, use Sci-Keras (https://github.com/adriangb/scikeras) instead. See https://www.adriangb.com/scikeras/stable/migration.html for help migrating.\n",
            "  \"\"\"Entry point for launching an IPython kernel.\n"
          ]
        }
      ],
      "source": [
        "model = KerasRegressor(build_fn = built_class, verbose = 0)\n",
        "param_grid = {\n",
        "    'batch_size': [24,32],\n",
        "    'epochs': [20,30,40]\n",
        "}"
      ]
    },
    {
      "cell_type": "code",
      "execution_count": null,
      "metadata": {
        "colab": {
          "base_uri": "https://localhost:8080/"
        },
        "id": "Pol0l_jILI44",
        "outputId": "843c9362-73dc-4b83-c890-e254c7a5fe8d"
      },
      "outputs": [
        {
          "output_type": "stream",
          "name": "stdout",
          "text": [
            "Mean score: -127.249914, with: {'batch_size': 24, 'epochs': 20}\n",
            "Mean score: -128.470563, with: {'batch_size': 24, 'epochs': 30}\n",
            "Mean score: -124.348910, with: {'batch_size': 24, 'epochs': 40}\n",
            "Mean score: -130.988971, with: {'batch_size': 32, 'epochs': 20}\n",
            "Mean score: -126.411495, with: {'batch_size': 32, 'epochs': 30}\n",
            "Mean score: -126.153251, with: {'batch_size': 32, 'epochs': 40}\n",
            "Best Score: -124.34890987063741\n",
            "Best Hyperparameters: {'batch_size': 24, 'epochs': 40}\n",
            " \n",
            "The result of prediction on x_test are:\n",
            "Root Mean Squared Error:  123.49720843485943\n",
            "R2:  0.812420224875814\n",
            "Mean Absolute Error:  92.931299905216\n"
          ]
        }
      ],
      "source": [
        "#Bari\n",
        "grid = bestHyper(param_grid, x_trainB, y_trainB, model)\n",
        "\n",
        "resultBariANN = []\n",
        "bestModel = grid.best_estimator_\n",
        "resultBariANN = predictAndResults(bestModel, x_testB, y_testB)\n",
        "stampa(resultBariANN)\n"
      ]
    },
    {
      "cell_type": "code",
      "execution_count": null,
      "metadata": {
        "colab": {
          "base_uri": "https://localhost:8080/"
        },
        "id": "N7x2jIPXWX1a",
        "outputId": "8f376bc6-95c5-457a-b1c1-3243e6b0db90"
      },
      "outputs": [
        {
          "output_type": "stream",
          "name": "stdout",
          "text": [
            "Mean score: -131.188651, with: {'batch_size': 24, 'epochs': 20}\n",
            "Mean score: -128.065084, with: {'batch_size': 24, 'epochs': 30}\n",
            "Mean score: -127.532681, with: {'batch_size': 24, 'epochs': 40}\n",
            "Mean score: -131.625938, with: {'batch_size': 32, 'epochs': 20}\n",
            "Mean score: -127.294875, with: {'batch_size': 32, 'epochs': 30}\n",
            "Mean score: -126.051123, with: {'batch_size': 32, 'epochs': 40}\n",
            "Best Score: -126.05112337276474\n",
            "Best Hyperparameters: {'batch_size': 32, 'epochs': 40}\n",
            " \n",
            "The result of prediction on x_test are:\n",
            "Root Mean Squared Error:  121.51776737403709\n",
            "R2:  0.8216583287907633\n",
            "Mean Absolute Error:  90.3277640515886\n"
          ]
        }
      ],
      "source": [
        "#Torino\n",
        "grid = bestHyper(param_grid, x_trainT, y_trainT, model)\n",
        "\n",
        "resultTorinoANN = []\n",
        "bestModel = grid.best_estimator_\n",
        "resultTorinoANN = predictAndResults(bestModel, x_testT, y_testT)\n",
        "stampa(resultTorinoANN)"
      ]
    },
    {
      "cell_type": "code",
      "execution_count": null,
      "metadata": {
        "colab": {
          "base_uri": "https://localhost:8080/"
        },
        "id": "30oYk69uXJZh",
        "outputId": "384fbf05-bfe6-4a8c-f81d-0884bcba3edc"
      },
      "outputs": [
        {
          "output_type": "stream",
          "name": "stdout",
          "text": [
            "Mean score: -127.890170, with: {'batch_size': 24, 'epochs': 20}\n",
            "Mean score: -123.431597, with: {'batch_size': 24, 'epochs': 30}\n",
            "Mean score: -124.936299, with: {'batch_size': 24, 'epochs': 40}\n",
            "Mean score: -129.794159, with: {'batch_size': 32, 'epochs': 20}\n",
            "Mean score: -124.163423, with: {'batch_size': 32, 'epochs': 30}\n",
            "Mean score: -124.644929, with: {'batch_size': 32, 'epochs': 40}\n",
            "Best Score: -123.43159731039421\n",
            "Best Hyperparameters: {'batch_size': 24, 'epochs': 30}\n",
            " \n",
            "The result of prediction on x_test are:\n",
            "Root Mean Squared Error:  119.83424829863159\n",
            "R2:  0.819188232821931\n",
            "Mean Absolute Error:  87.85013886081185\n"
          ]
        }
      ],
      "source": [
        "#Roma\n",
        "grid = bestHyper(param_grid, x_trainR, y_trainR, model)\n",
        "\n",
        "resultRomaANN = []\n",
        "bestModel = grid.best_estimator_\n",
        "resultRomaANN = predictAndResults(bestModel, x_testR, y_testR)\n",
        "stampa(resultRomaANN)"
      ]
    },
    {
      "cell_type": "markdown",
      "metadata": {
        "id": "GwxPYrRqT1SC"
      },
      "source": [
        "#Prepare array for plot results"
      ]
    },
    {
      "cell_type": "code",
      "execution_count": null,
      "metadata": {
        "id": "kgwu4bm9cOOH"
      },
      "outputs": [],
      "source": [
        "R2ArrRF = []\n",
        "R2ArrRF.append(resultBariRF[0])\n",
        "R2ArrRF.append(resultTorinoRF[0])\n",
        "R2ArrRF.append(resultRomaRF[0])\n",
        "R2ArrKNR = []\n",
        "R2ArrKNR.append(resultBariKNR[0])\n",
        "R2ArrKNR.append(resultTorinoKNR[0])\n",
        "R2ArrKNR.append(resultRomaKNR[0])\n",
        "R2ArrXG = []\n",
        "R2ArrXG.append(resultBariXG[0])\n",
        "R2ArrXG.append(resultTorinoXG[0])\n",
        "R2ArrXG.append(resultRomaXG[0])\n",
        "R2ArrLRQ = []\n",
        "R2ArrLRQ.append(resultBariLRQ[0])\n",
        "R2ArrLRQ.append(resultTorinoLRQ[0])\n",
        "R2ArrLRQ.append(resultRomaLRQ[0])\n",
        "R2ArrENQ = []\n",
        "R2ArrENQ.append(resultBariENQ[0])\n",
        "R2ArrENQ.append(resultTorinoENQ[0])\n",
        "R2ArrENQ.append(resultRomaENQ[0])\n",
        "R2ArrANN = []\n",
        "R2ArrANN.append(resultBariANN[0])\n",
        "R2ArrANN.append(resultTorinoANN[0])\n",
        "R2ArrANN.append(resultRomaANN[0])\n"
      ]
    },
    {
      "cell_type": "code",
      "execution_count": null,
      "metadata": {
        "id": "rqoRzfLtlXgZ"
      },
      "outputs": [],
      "source": [
        "MSEArrRF = []\n",
        "MSEArrRF.append(resultBariRF[1])\n",
        "MSEArrRF.append(resultTorinoRF[1])\n",
        "MSEArrRF.append(resultRomaRF[1])\n",
        "MSEArrKNR = []\n",
        "MSEArrKNR.append(resultBariKNR[1])\n",
        "MSEArrKNR.append(resultTorinoKNR[1])\n",
        "MSEArrKNR.append(resultRomaKNR[1])\n",
        "MSEArrXG = []\n",
        "MSEArrXG.append(resultBariXG[1])\n",
        "MSEArrXG.append(resultTorinoXG[1])\n",
        "MSEArrXG.append(resultRomaXG[1])\n",
        "MSEArrLRQ = []\n",
        "MSEArrLRQ.append(resultBariLRQ[1])\n",
        "MSEArrLRQ.append(resultTorinoLRQ[1])\n",
        "MSEArrLRQ.append(resultRomaLRQ[1])\n",
        "MSEArrENQ = []\n",
        "MSEArrENQ.append(resultBariENQ[1])\n",
        "MSEArrENQ.append(resultTorinoENQ[1])\n",
        "MSEArrENQ.append(resultRomaENQ[1])\n",
        "MSEArrANN = []\n",
        "MSEArrANN.append(resultBariANN[1])\n",
        "MSEArrANN.append(resultTorinoANN[1])\n",
        "MSEArrANN.append(resultRomaANN[1])"
      ]
    },
    {
      "cell_type": "code",
      "execution_count": null,
      "metadata": {
        "id": "wuyV5Q674_rL"
      },
      "outputs": [],
      "source": [
        "MAEArrRF = []\n",
        "MAEArrRF.append(resultBariRF[2])\n",
        "MAEArrRF.append(resultTorinoRF[2])\n",
        "MAEArrRF.append(resultRomaRF[2])\n",
        "MAEArrKNR = []\n",
        "MAEArrKNR.append(resultBariKNR[2])\n",
        "MAEArrKNR.append(resultTorinoKNR[2])\n",
        "MAEArrKNR.append(resultRomaKNR[2])\n",
        "MAEArrXG = []\n",
        "MAEArrXG.append(resultBariXG[2])\n",
        "MAEArrXG.append(resultTorinoXG[2])\n",
        "MAEArrXG.append(resultRomaXG[2])\n",
        "MAEArrLRQ = []\n",
        "MAEArrLRQ.append(resultBariLRQ[2])\n",
        "MAEArrLRQ.append(resultTorinoLRQ[2])\n",
        "MAEArrLRQ.append(resultRomaLRQ[2])\n",
        "MAEArrENQ = []\n",
        "MAEArrENQ.append(resultBariENQ[2])\n",
        "MAEArrENQ.append(resultTorinoENQ[2])\n",
        "MAEArrENQ.append(resultRomaENQ[2])\n",
        "MAEArrANN = []\n",
        "MAEArrANN.append(resultBariANN[2])\n",
        "MAEArrANN.append(resultTorinoANN[2])\n",
        "MAEArrANN.append(resultRomaANN[2])"
      ]
    },
    {
      "cell_type": "markdown",
      "metadata": {
        "id": "gsmm6mTD43ky"
      },
      "source": [
        "#Final graph"
      ]
    },
    {
      "cell_type": "code",
      "execution_count": null,
      "metadata": {
        "colab": {
          "base_uri": "https://localhost:8080/",
          "height": 499
        },
        "id": "jKAX6R_-lq3c",
        "outputId": "9475cebb-abde-4195-9cd6-0c5d7af4b116"
      },
      "outputs": [
        {
          "output_type": "display_data",
          "data": {
            "text/plain": [
              "<Figure size 1080x576 with 1 Axes>"
            ],
            "image/png": "[encoded data removed]"
          },
          "metadata": {
            "needs_background": "light"
          }
        }
      ],
      "source": [
        "#RMSE\n",
        "plt.figure(figsize = (15,8))\n",
        "plt.plot(city, MSEArrRF, 'bo-', color = 'green')\n",
        "plt.plot(city, MSEArrKNR, 'bo-', color = 'blue')\n",
        "plt.plot(city, MSEArrXG, 'bo-', color = 'red')\n",
        "plt.plot(city, MSEArrENQ, 'bo-', color = 'orange')\n",
        "plt.plot(city, MSEArrLRQ, 'bo-', color = '#FB97F7')\n",
        "plt.plot(city, MSEArrANN, 'bo-', color = 'm')\n",
        "plt.title(\"RMSE\")\n",
        "RF = mpatches.Patch(color='green', label='RF')\n",
        "KNR = mpatches.Patch(color='blue', label='KNR')\n",
        "XG = mpatches.Patch(color='red', label='XGRegressor')\n",
        "EN = mpatches.Patch(color='orange', label='Elastic Net')\n",
        "LR = mpatches.Patch(color='#FB97F7', label='Linear Regressor')\n",
        "ANN = mpatches.Patch(color='m', label='ANN')\n",
        "plt.legend(handles=[RF, KNR, XG, EN, LR, ANN], loc = 'upper left', fontsize = 10)\n",
        "plt.show()"
      ]
    },
    {
      "cell_type": "code",
      "execution_count": null,
      "metadata": {
        "colab": {
          "base_uri": "https://localhost:8080/",
          "height": 499
        },
        "id": "9eimQrN0ggjm",
        "outputId": "58682759-bc0f-4cf7-f7c6-7a9fea7486d7"
      },
      "outputs": [
        {
          "output_type": "display_data",
          "data": {
            "text/plain": [
              "<Figure size 1080x576 with 1 Axes>"
            ],
            "image/png": "[encoded data removed]"
          },
          "metadata": {
            "needs_background": "light"
          }
        }
      ],
      "source": [
        "#R2\n",
        "plt.figure(figsize = (15,8))\n",
        "plt.plot(city, R2ArrRF, 'bo-', color = 'green')\n",
        "plt.plot(city, R2ArrKNR, 'bo-', color = 'blue')\n",
        "plt.plot(city, R2ArrXG, 'bo-', color = 'red')\n",
        "plt.plot(city, R2ArrENQ, 'bo-', color = 'orange')\n",
        "plt.plot(city, R2ArrLRQ, 'bo-', color = '#FB97F7')\n",
        "plt.plot(city, R2ArrANN, 'bo-', color = 'm')\n",
        "plt.title(\"R2\")\n",
        "RF = mpatches.Patch(color='green', label='RF')\n",
        "KNR = mpatches.Patch(color='blue', label='KNR')\n",
        "XG = mpatches.Patch(color='red', label='XGRegressor')\n",
        "EN = mpatches.Patch(color='orange', label='Elastic Net')\n",
        "LR = mpatches.Patch(color='#FB97F7', label='Linear Regressor')\n",
        "ANN = mpatches.Patch(color='m', label='ANN')\n",
        "plt.legend(handles=[RF, KNR, XG, EN, LR, ANN], loc = 'best', fontsize = 10)\n",
        "plt.show()"
      ]
    },
    {
      "cell_type": "code",
      "execution_count": null,
      "metadata": {
        "colab": {
          "base_uri": "https://localhost:8080/",
          "height": 499
        },
        "id": "f6HYsAvcn4ZX",
        "outputId": "04ed9bf4-f42b-429a-9702-651f30c42115"
      },
      "outputs": [
        {
          "output_type": "display_data",
          "data": {
            "text/plain": [
              "<Figure size 1080x576 with 1 Axes>"
            ],
            "image/png": "[encoded data removed]"
          },
          "metadata": {
            "needs_background": "light"
          }
        }
      ],
      "source": [
        "#MAE\n",
        "plt.figure(figsize = (15,8))\n",
        "plt.plot(city, MAEArrRF, 'bo-', color = 'green')\n",
        "plt.plot(city, MAEArrKNR, 'bo-', color = 'blue')\n",
        "plt.plot(city, MAEArrXG, 'bo-', color = 'red')\n",
        "plt.plot(city, MAEArrENQ, 'bo-', color = 'orange')\n",
        "plt.plot(city, MAEArrLRQ, 'bo-', color = '#FB97F7')\n",
        "plt.plot(city, MAEArrANN, 'bo-', color = 'm')\n",
        "plt.title(\"MAE\")\n",
        "RF = mpatches.Patch(color='green', label='RF')\n",
        "KNR = mpatches.Patch(color='blue', label='KNR')\n",
        "XG = mpatches.Patch(color='red', label='XGRegressor')\n",
        "EN = mpatches.Patch(color='orange', label='Elastic Net')\n",
        "LR = mpatches.Patch(color='#FB97F7', label='Linear Regressor')\n",
        "ANN = mpatches.Patch(color='m', label='ANN')\n",
        "plt.legend(handles=[RF, KNR, XG, EN, LR, ANN], loc = 'upper left', fontsize = 10)\n",
        "plt.show()"
      ]
    },
    {
      "cell_type": "markdown",
      "metadata": {
        "id": "qaqWYvZeNrUu"
      },
      "source": [
        "#Plot RMSE score for each city "
      ]
    },
    {
      "cell_type": "code",
      "execution_count": null,
      "metadata": {
        "colab": {
          "base_uri": "https://localhost:8080/",
          "height": 428
        },
        "id": "XDUp1IevmSXU",
        "outputId": "6f037de5-0591-414a-d51f-6b45fc1ac2ea"
      },
      "outputs": [
        {
          "output_type": "display_data",
          "data": {
            "text/plain": [
              "<Figure size 864x504 with 1 Axes>"
            ],
            "image/png": "[encoded data removed]"
          },
          "metadata": {
            "needs_background": "light"
          }
        }
      ],
      "source": [
        "#Bari graph\n",
        "models = ['Random Forest', 'KNR', 'XGBooster', 'Elastic Net', 'Linear', 'ANN']\n",
        "plt.figure(figsize = (12,7))\n",
        "plt.plot(models[0], resultBariRF[1], 'o', color = 'green')\n",
        "plt.plot(models[1], resultBariKNR[1], 'o', color = 'blue')\n",
        "plt.plot(models[2], resultBariXG[1], 'o', color = 'red')\n",
        "plt.plot(models[3], resultBariENQ[1], 'o', color = 'orange')\n",
        "plt.plot(models[4], resultBariLRQ[1], 'o', color = '#FB97F7')\n",
        "plt.plot(models[5], resultBariANN[1], 'o', color = 'm')\n",
        "plt.annotate((\"{:.2f}\".format(resultBariRF[1])),(models[0],resultBariRF[1]), textcoords='offset pixels', xytext=(30,-18), ha='right')\n",
        "plt.annotate((\"{:.2f}\".format(resultBariKNR[1])),(models[1],resultBariKNR[1]), textcoords='offset pixels', xytext=(26,-20), ha='right')\n",
        "plt.annotate((\"{:.2f}\".format(resultBariXG[1])),(models[2],resultBariXG[1]), textcoords='offset pixels', xytext=(26,15), ha='right')\n",
        "plt.annotate((\"{:.2f}\".format(resultBariENQ[1])),(models[3],resultBariENQ[1]), textcoords='offset pixels', xytext=(26,-20), ha='right')\n",
        "plt.annotate((\"{:.2f}\".format(resultBariLRQ[1])),(models[4],resultBariLRQ[1]), textcoords='offset pixels', xytext=(26,-20), ha='right')\n",
        "plt.annotate((\"{:.2f}\".format(resultBariANN[1])),(models[5],resultBariANN[1]), textcoords='offset pixels', xytext=(26,-20), ha='right')\n",
        "plt.show()"
      ]
    },
    {
      "cell_type": "code",
      "execution_count": null,
      "metadata": {
        "colab": {
          "base_uri": "https://localhost:8080/",
          "height": 428
        },
        "id": "WYXr_drHNH-g",
        "outputId": "fc643149-77a7-4125-836e-7176c4bc08f9"
      },
      "outputs": [
        {
          "output_type": "display_data",
          "data": {
            "text/plain": [
              "<Figure size 864x504 with 1 Axes>"
            ],
            "image/png": "[encoded data removed]"
          },
          "metadata": {
            "needs_background": "light"
          }
        }
      ],
      "source": [
        "#Torino graph\n",
        "models = ['Random Forest', 'KNR', 'XGBooster', 'Elastic Net', 'Linear', 'ANN']\n",
        "plt.figure(figsize = (12,7))\n",
        "plt.plot(models[0], resultTorinoRF[1], 'o', color = 'green')\n",
        "plt.plot(models[1], resultTorinoKNR[1], 'o', color = 'blue')\n",
        "plt.plot(models[2], resultTorinoXG[1], 'o', color = 'red')\n",
        "plt.plot(models[3], resultTorinoENQ[1], 'o', color = 'orange')\n",
        "plt.plot(models[4], resultTorinoLRQ[1], 'o', color = '#FB97F7')\n",
        "plt.plot(models[5], resultTorinoANN[1], 'o', color = 'm')\n",
        "plt.annotate((\"{:.2f}\".format(resultTorinoRF[1])),(models[0],resultTorinoRF[1]), textcoords='offset pixels', xytext=(45,-17), ha='right')\n",
        "plt.annotate((\"{:.2f}\".format(resultTorinoKNR[1])),(models[1],resultTorinoKNR[1]), textcoords='offset pixels', xytext=(26,-20), ha='right')\n",
        "plt.annotate((\"{:.2f}\".format(resultTorinoXG[1])),(models[2],resultTorinoXG[1]), textcoords='offset pixels', xytext=(26,15), ha='right')\n",
        "plt.annotate((\"{:.2f}\".format(resultTorinoENQ[1])),(models[3],resultTorinoENQ[1]), textcoords='offset pixels', xytext=(26,-20), ha='right')\n",
        "plt.annotate((\"{:.2f}\".format(resultTorinoLRQ[1])),(models[4],resultTorinoLRQ[1]), textcoords='offset pixels', xytext=(26,-20), ha='right')\n",
        "plt.annotate((\"{:.2f}\".format(resultTorinoANN[1])),(models[5],resultTorinoANN[1]), textcoords='offset pixels', xytext=(26,-20), ha='right')\n",
        "plt.show()"
      ]
    },
    {
      "cell_type": "code",
      "execution_count": null,
      "metadata": {
        "colab": {
          "base_uri": "https://localhost:8080/",
          "height": 428
        },
        "id": "OrgUWjMZNKCz",
        "outputId": "93a41066-212a-4108-9349-6264a5fd6c90"
      },
      "outputs": [
        {
          "output_type": "display_data",
          "data": {
            "text/plain": [
              "<Figure size 864x504 with 1 Axes>"
            ],
            "image/png": "[encoded data removed]"
          },
          "metadata": {
            "needs_background": "light"
          }
        }
      ],
      "source": [
        "#Roma graph\n",
        "models = ['Random Forest', 'KNR', 'XGBooster', 'Elastic Net', 'Linear', 'ANN']\n",
        "plt.figure(figsize = (12,7))\n",
        "plt.plot(models[0], resultRomaRF[1], 'o', color = 'green')\n",
        "plt.plot(models[1], resultRomaKNR[1], 'o', color = 'blue')\n",
        "plt.plot(models[2], resultRomaXG[1], 'o', color = 'red')\n",
        "plt.plot(models[3], resultRomaENQ[1], 'o', color = 'orange')\n",
        "plt.plot(models[4], resultRomaLRQ[1], 'o', color = '#FB97F7')\n",
        "plt.plot(models[5], resultRomaANN[1], 'o', color = 'm')\n",
        "plt.annotate((\"{:.2f}\".format(resultRomaRF[1])),(models[0],resultRomaRF[1]), textcoords='offset pixels', xytext=(35,15), ha='right')\n",
        "plt.annotate((\"{:.2f}\".format(resultRomaKNR[1])),(models[1],resultRomaKNR[1]), textcoords='offset pixels', xytext=(26,-20), ha='right')\n",
        "plt.annotate((\"{:.2f}\".format(resultRomaXG[1])),(models[2],resultRomaXG[1]), textcoords='offset pixels', xytext=(26,15), ha='right')\n",
        "plt.annotate((\"{:.2f}\".format(resultRomaENQ[1])),(models[3],resultRomaENQ[1]), textcoords='offset pixels', xytext=(26,-20), ha='right')\n",
        "plt.annotate((\"{:.2f}\".format(resultRomaLRQ[1])),(models[4],resultRomaLRQ[1]), textcoords='offset pixels', xytext=(26,-20), ha='right')\n",
        "plt.annotate((\"{:.2f}\".format(resultRomaANN[1])),(models[5],resultRomaANN[1]), textcoords='offset pixels', xytext=(26,-20), ha='right')\n",
        "plt.show()"
      ]
    }
  ],
  "metadata": {
    "colab": {
      "collapsed_sections": [
        "t2lj0q2I5yHw",
        "RlHwuSSXji_9",
        "jZQGjUQ0tgmt",
        "GG2fEwwRdRBj",
        "DSpyUiZpuIA-",
        "xbwtL0dE9Hp_",
        "gt-qaLMTyVux",
        "BjvaSd5yDydb",
        "Koy8vLc7t3Ze",
        "NU__dYMHycrG",
        "GwxPYrRqT1SC"
      ],
      "provenance": []
    },
    "gpuClass": "standard",
    "kernelspec": {
      "display_name": "Python 3",
      "name": "python3"
    },
    "language_info": {
      "name": "python"
    }
  },
  "nbformat": 4,
  "nbformat_minor": 0
}